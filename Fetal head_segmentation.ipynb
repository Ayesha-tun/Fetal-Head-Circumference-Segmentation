{
  "cells": [
    {
      "cell_type": "markdown",
      "metadata": {
        "id": "Vlg97CDAMF40"
      },
      "source": [
        "# Google drive"
      ]
    },
    {
      "cell_type": "code",
      "source": [
        "from google.colab import drive\n",
        "drive.mount('/content/drive')"
      ],
      "metadata": {
        "id": "A5HU5N0GssPn",
        "colab": {
          "base_uri": "https://localhost:8080/"
        },
        "outputId": "f80080c7-fb22-4fab-bd60-5a922099d79e"
      },
      "execution_count": null,
      "outputs": [
        {
          "output_type": "stream",
          "name": "stdout",
          "text": [
            "Mounted at /content/drive\n"
          ]
        }
      ]
    },
    {
      "cell_type": "markdown",
      "metadata": {
        "id": "Ad32mmJwML_E"
      },
      "source": [
        "**Loading dataset**"
      ]
    },
    {
      "cell_type": "code",
      "source": [
        "import os\n",
        "import cv2\n",
        "from PIL import Image\n",
        "import numpy as np\n",
        "from matplotlib import pyplot as plt\n",
        "from sklearn.preprocessing import MinMaxScaler\n",
        "from tensorflow.keras.optimizers import Adam\n",
        "import glob\n",
        "from keras.preprocessing.image import ImageDataGenerator\n",
        "\n",
        "\n",
        "\n",
        "\n",
        "img_directory=\"/content/drive/MyDrive/Colab Notebooks/fetal training set\"\n",
        "mask_directory=\"/content/drive/MyDrive/Colab Notebooks/fetal head annotation\"\n",
        "size=256\n",
        "num_img=999"
      ],
      "metadata": {
        "id": "CuaQNMiDsvx6"
      },
      "execution_count": null,
      "outputs": []
    },
    {
      "cell_type": "code",
      "source": [
        "image_names=glob.glob(\"/content/drive/MyDrive/Colab Notebooks/fetal training set/*_HC.png\")\n",
        "print(image_names)\n",
        "image_names.sort()\n",
        "print(image_names)\n",
        "print(len(image_names))\n",
        "image_names_subset=image_names[0:num_img]\n",
        "images=[cv2.imread(img,3) for img in image_names_subset]\n",
        "images=[cv2.resize(img,(256,256)) for img in images]\n",
        "image_dataset=np.array(images)\n",
        "#image_dataset = np.expand_dims(image_dataset, axis = 3)\n",
        "print(image_dataset.shape)"
      ],
      "metadata": {
        "id": "jEIrYvSUsy3T",
        "colab": {
          "base_uri": "https://localhost:8080/"
        },
        "outputId": "c1b664e7-47cd-41fa-c358-2b8eccce329c"
      },
      "execution_count": null,
      "outputs": [
        {
          "output_type": "stream",
          "name": "stdout",
          "text": [
            "['/content/drive/MyDrive/Colab Notebooks/fetal training set/000_HC.png', '/content/drive/MyDrive/Colab Notebooks/fetal training set/001_HC.png', '/content/drive/MyDrive/Colab Notebooks/fetal training set/002_HC.png', '/content/drive/MyDrive/Colab Notebooks/fetal training set/003_HC.png', '/content/drive/MyDrive/Colab Notebooks/fetal training set/007_HC.png', '/content/drive/MyDrive/Colab Notebooks/fetal training set/006_HC.png', '/content/drive/MyDrive/Colab Notebooks/fetal training set/008_HC.png', '/content/drive/MyDrive/Colab Notebooks/fetal training set/005_HC.png', '/content/drive/MyDrive/Colab Notebooks/fetal training set/004_HC.png', '/content/drive/MyDrive/Colab Notebooks/fetal training set/009_HC.png', '/content/drive/MyDrive/Colab Notebooks/fetal training set/012_HC.png', '/content/drive/MyDrive/Colab Notebooks/fetal training set/010_HC.png', '/content/drive/MyDrive/Colab Notebooks/fetal training set/011_HC.png', '/content/drive/MyDrive/Colab Notebooks/fetal training set/014_HC.png', '/content/drive/MyDrive/Colab Notebooks/fetal training set/013_HC.png', '/content/drive/MyDrive/Colab Notebooks/fetal training set/016_HC.png', '/content/drive/MyDrive/Colab Notebooks/fetal training set/015_HC.png', '/content/drive/MyDrive/Colab Notebooks/fetal training set/017_HC.png', '/content/drive/MyDrive/Colab Notebooks/fetal training set/019_HC.png', '/content/drive/MyDrive/Colab Notebooks/fetal training set/018_HC.png', '/content/drive/MyDrive/Colab Notebooks/fetal training set/022_HC.png', '/content/drive/MyDrive/Colab Notebooks/fetal training set/021_HC.png', '/content/drive/MyDrive/Colab Notebooks/fetal training set/023_HC.png', '/content/drive/MyDrive/Colab Notebooks/fetal training set/020_HC.png', '/content/drive/MyDrive/Colab Notebooks/fetal training set/025_HC.png', '/content/drive/MyDrive/Colab Notebooks/fetal training set/024_HC.png', '/content/drive/MyDrive/Colab Notebooks/fetal training set/028_HC.png', '/content/drive/MyDrive/Colab Notebooks/fetal training set/026_HC.png', '/content/drive/MyDrive/Colab Notebooks/fetal training set/027_HC.png', '/content/drive/MyDrive/Colab Notebooks/fetal training set/029_HC.png', '/content/drive/MyDrive/Colab Notebooks/fetal training set/031_HC.png', '/content/drive/MyDrive/Colab Notebooks/fetal training set/032_HC.png', '/content/drive/MyDrive/Colab Notebooks/fetal training set/033_HC.png', '/content/drive/MyDrive/Colab Notebooks/fetal training set/030_HC.png', '/content/drive/MyDrive/Colab Notebooks/fetal training set/039_HC.png', '/content/drive/MyDrive/Colab Notebooks/fetal training set/035_HC.png', '/content/drive/MyDrive/Colab Notebooks/fetal training set/036_HC.png', '/content/drive/MyDrive/Colab Notebooks/fetal training set/034_HC.png', '/content/drive/MyDrive/Colab Notebooks/fetal training set/038_HC.png', '/content/drive/MyDrive/Colab Notebooks/fetal training set/040_HC.png', '/content/drive/MyDrive/Colab Notebooks/fetal training set/037_HC.png', '/content/drive/MyDrive/Colab Notebooks/fetal training set/044_HC.png', '/content/drive/MyDrive/Colab Notebooks/fetal training set/041_HC.png', '/content/drive/MyDrive/Colab Notebooks/fetal training set/047_HC.png', '/content/drive/MyDrive/Colab Notebooks/fetal training set/045_HC.png', '/content/drive/MyDrive/Colab Notebooks/fetal training set/046_HC.png', '/content/drive/MyDrive/Colab Notebooks/fetal training set/042_HC.png', '/content/drive/MyDrive/Colab Notebooks/fetal training set/043_HC.png', '/content/drive/MyDrive/Colab Notebooks/fetal training set/050_HC.png', '/content/drive/MyDrive/Colab Notebooks/fetal training set/049_HC.png', '/content/drive/MyDrive/Colab Notebooks/fetal training set/051_HC.png', '/content/drive/MyDrive/Colab Notebooks/fetal training set/048_HC.png', '/content/drive/MyDrive/Colab Notebooks/fetal training set/053_HC.png', '/content/drive/MyDrive/Colab Notebooks/fetal training set/052_HC.png', '/content/drive/MyDrive/Colab Notebooks/fetal training set/055_HC.png', '/content/drive/MyDrive/Colab Notebooks/fetal training set/058_HC.png', '/content/drive/MyDrive/Colab Notebooks/fetal training set/056_HC.png', '/content/drive/MyDrive/Colab Notebooks/fetal training set/054_HC.png', '/content/drive/MyDrive/Colab Notebooks/fetal training set/057_HC.png', '/content/drive/MyDrive/Colab Notebooks/fetal training set/060_HC.png', '/content/drive/MyDrive/Colab Notebooks/fetal training set/062_HC.png', '/content/drive/MyDrive/Colab Notebooks/fetal training set/061_HC.png', '/content/drive/MyDrive/Colab Notebooks/fetal training set/059_HC.png', '/content/drive/MyDrive/Colab Notebooks/fetal training set/063_HC.png', '/content/drive/MyDrive/Colab Notebooks/fetal training set/066_HC.png', '/content/drive/MyDrive/Colab Notebooks/fetal training set/065_HC.png', '/content/drive/MyDrive/Colab Notebooks/fetal training set/064_HC.png', '/content/drive/MyDrive/Colab Notebooks/fetal training set/069_HC.png', '/content/drive/MyDrive/Colab Notebooks/fetal training set/070_HC.png', '/content/drive/MyDrive/Colab Notebooks/fetal training set/067_HC.png', '/content/drive/MyDrive/Colab Notebooks/fetal training set/072_HC.png', '/content/drive/MyDrive/Colab Notebooks/fetal training set/071_HC.png', '/content/drive/MyDrive/Colab Notebooks/fetal training set/068_HC.png', '/content/drive/MyDrive/Colab Notebooks/fetal training set/074_HC.png', '/content/drive/MyDrive/Colab Notebooks/fetal training set/075_HC.png', '/content/drive/MyDrive/Colab Notebooks/fetal training set/079_HC.png', '/content/drive/MyDrive/Colab Notebooks/fetal training set/077_HC.png', '/content/drive/MyDrive/Colab Notebooks/fetal training set/076_HC.png', '/content/drive/MyDrive/Colab Notebooks/fetal training set/073_HC.png', '/content/drive/MyDrive/Colab Notebooks/fetal training set/078_HC.png', '/content/drive/MyDrive/Colab Notebooks/fetal training set/083_HC.png', '/content/drive/MyDrive/Colab Notebooks/fetal training set/080_HC.png', '/content/drive/MyDrive/Colab Notebooks/fetal training set/081_HC.png', '/content/drive/MyDrive/Colab Notebooks/fetal training set/082_HC.png', '/content/drive/MyDrive/Colab Notebooks/fetal training set/085_HC.png', '/content/drive/MyDrive/Colab Notebooks/fetal training set/086_HC.png', '/content/drive/MyDrive/Colab Notebooks/fetal training set/087_HC.png', '/content/drive/MyDrive/Colab Notebooks/fetal training set/084_HC.png', '/content/drive/MyDrive/Colab Notebooks/fetal training set/088_HC.png', '/content/drive/MyDrive/Colab Notebooks/fetal training set/093_HC.png', '/content/drive/MyDrive/Colab Notebooks/fetal training set/090_HC.png', '/content/drive/MyDrive/Colab Notebooks/fetal training set/094_HC.png', '/content/drive/MyDrive/Colab Notebooks/fetal training set/092_HC.png', '/content/drive/MyDrive/Colab Notebooks/fetal training set/091_HC.png', '/content/drive/MyDrive/Colab Notebooks/fetal training set/089_HC.png', '/content/drive/MyDrive/Colab Notebooks/fetal training set/098_HC.png', '/content/drive/MyDrive/Colab Notebooks/fetal training set/097_HC.png', '/content/drive/MyDrive/Colab Notebooks/fetal training set/099_HC.png', '/content/drive/MyDrive/Colab Notebooks/fetal training set/095_HC.png', '/content/drive/MyDrive/Colab Notebooks/fetal training set/100_HC.png', '/content/drive/MyDrive/Colab Notebooks/fetal training set/101_HC.png', '/content/drive/MyDrive/Colab Notebooks/fetal training set/096_HC.png', '/content/drive/MyDrive/Colab Notebooks/fetal training set/103_HC.png', '/content/drive/MyDrive/Colab Notebooks/fetal training set/105_HC.png', '/content/drive/MyDrive/Colab Notebooks/fetal training set/102_HC.png', '/content/drive/MyDrive/Colab Notebooks/fetal training set/106_HC.png', '/content/drive/MyDrive/Colab Notebooks/fetal training set/104_HC.png', '/content/drive/MyDrive/Colab Notebooks/fetal training set/107_HC.png', '/content/drive/MyDrive/Colab Notebooks/fetal training set/108_HC.png', '/content/drive/MyDrive/Colab Notebooks/fetal training set/110_HC.png', '/content/drive/MyDrive/Colab Notebooks/fetal training set/109_HC.png', '/content/drive/MyDrive/Colab Notebooks/fetal training set/115_HC.png', '/content/drive/MyDrive/Colab Notebooks/fetal training set/114_HC.png', '/content/drive/MyDrive/Colab Notebooks/fetal training set/111_HC.png', '/content/drive/MyDrive/Colab Notebooks/fetal training set/116_HC.png', '/content/drive/MyDrive/Colab Notebooks/fetal training set/112_HC.png', '/content/drive/MyDrive/Colab Notebooks/fetal training set/113_HC.png', '/content/drive/MyDrive/Colab Notebooks/fetal training set/120_HC.png', '/content/drive/MyDrive/Colab Notebooks/fetal training set/121_HC.png', '/content/drive/MyDrive/Colab Notebooks/fetal training set/118_HC.png', '/content/drive/MyDrive/Colab Notebooks/fetal training set/117_HC.png', '/content/drive/MyDrive/Colab Notebooks/fetal training set/119_HC.png', '/content/drive/MyDrive/Colab Notebooks/fetal training set/122_HC.png', '/content/drive/MyDrive/Colab Notebooks/fetal training set/125_HC.png', '/content/drive/MyDrive/Colab Notebooks/fetal training set/124_HC.png', '/content/drive/MyDrive/Colab Notebooks/fetal training set/123_HC.png', '/content/drive/MyDrive/Colab Notebooks/fetal training set/126_HC.png', '/content/drive/MyDrive/Colab Notebooks/fetal training set/129_HC.png', '/content/drive/MyDrive/Colab Notebooks/fetal training set/130_HC.png', '/content/drive/MyDrive/Colab Notebooks/fetal training set/127_HC.png', '/content/drive/MyDrive/Colab Notebooks/fetal training set/128_HC.png', '/content/drive/MyDrive/Colab Notebooks/fetal training set/132_HC.png', '/content/drive/MyDrive/Colab Notebooks/fetal training set/133_HC.png', '/content/drive/MyDrive/Colab Notebooks/fetal training set/131_HC.png', '/content/drive/MyDrive/Colab Notebooks/fetal training set/136_HC.png', '/content/drive/MyDrive/Colab Notebooks/fetal training set/135_HC.png', '/content/drive/MyDrive/Colab Notebooks/fetal training set/137_HC.png', '/content/drive/MyDrive/Colab Notebooks/fetal training set/138_HC.png', '/content/drive/MyDrive/Colab Notebooks/fetal training set/134_HC.png', '/content/drive/MyDrive/Colab Notebooks/fetal training set/140_HC.png', '/content/drive/MyDrive/Colab Notebooks/fetal training set/142_HC.png', '/content/drive/MyDrive/Colab Notebooks/fetal training set/141_HC.png', '/content/drive/MyDrive/Colab Notebooks/fetal training set/139_HC.png', '/content/drive/MyDrive/Colab Notebooks/fetal training set/147_HC.png', '/content/drive/MyDrive/Colab Notebooks/fetal training set/144_HC.png', '/content/drive/MyDrive/Colab Notebooks/fetal training set/145_HC.png', '/content/drive/MyDrive/Colab Notebooks/fetal training set/146_HC.png', '/content/drive/MyDrive/Colab Notebooks/fetal training set/143_HC.png', '/content/drive/MyDrive/Colab Notebooks/fetal training set/153_HC.png', '/content/drive/MyDrive/Colab Notebooks/fetal training set/152_HC.png', '/content/drive/MyDrive/Colab Notebooks/fetal training set/148_HC.png', '/content/drive/MyDrive/Colab Notebooks/fetal training set/150_HC.png', '/content/drive/MyDrive/Colab Notebooks/fetal training set/151_HC.png', '/content/drive/MyDrive/Colab Notebooks/fetal training set/149_HC.png', '/content/drive/MyDrive/Colab Notebooks/fetal training set/154_HC.png', '/content/drive/MyDrive/Colab Notebooks/fetal training set/158_HC.png', '/content/drive/MyDrive/Colab Notebooks/fetal training set/159_HC.png', '/content/drive/MyDrive/Colab Notebooks/fetal training set/156_HC.png', '/content/drive/MyDrive/Colab Notebooks/fetal training set/157_HC.png', '/content/drive/MyDrive/Colab Notebooks/fetal training set/155_HC.png', '/content/drive/MyDrive/Colab Notebooks/fetal training set/160_HC.png', '/content/drive/MyDrive/Colab Notebooks/fetal training set/162_HC.png', '/content/drive/MyDrive/Colab Notebooks/fetal training set/164_HC.png', '/content/drive/MyDrive/Colab Notebooks/fetal training set/163_HC.png', '/content/drive/MyDrive/Colab Notebooks/fetal training set/161_HC.png', '/content/drive/MyDrive/Colab Notebooks/fetal training set/165_HC.png', '/content/drive/MyDrive/Colab Notebooks/fetal training set/170_HC.png', '/content/drive/MyDrive/Colab Notebooks/fetal training set/172_HC.png', '/content/drive/MyDrive/Colab Notebooks/fetal training set/171_HC.png', '/content/drive/MyDrive/Colab Notebooks/fetal training set/166_HC.png', '/content/drive/MyDrive/Colab Notebooks/fetal training set/167_HC.png', '/content/drive/MyDrive/Colab Notebooks/fetal training set/168_HC.png', '/content/drive/MyDrive/Colab Notebooks/fetal training set/169_HC.png', '/content/drive/MyDrive/Colab Notebooks/fetal training set/175_HC.png', '/content/drive/MyDrive/Colab Notebooks/fetal training set/173_HC.png', '/content/drive/MyDrive/Colab Notebooks/fetal training set/176_HC.png', '/content/drive/MyDrive/Colab Notebooks/fetal training set/174_HC.png', '/content/drive/MyDrive/Colab Notebooks/fetal training set/177_HC.png', '/content/drive/MyDrive/Colab Notebooks/fetal training set/179_HC.png', '/content/drive/MyDrive/Colab Notebooks/fetal training set/181_HC.png', '/content/drive/MyDrive/Colab Notebooks/fetal training set/184_HC.png', '/content/drive/MyDrive/Colab Notebooks/fetal training set/180_HC.png', '/content/drive/MyDrive/Colab Notebooks/fetal training set/178_HC.png', '/content/drive/MyDrive/Colab Notebooks/fetal training set/183_HC.png', '/content/drive/MyDrive/Colab Notebooks/fetal training set/182_HC.png', '/content/drive/MyDrive/Colab Notebooks/fetal training set/187_HC.png', '/content/drive/MyDrive/Colab Notebooks/fetal training set/188_HC.png', '/content/drive/MyDrive/Colab Notebooks/fetal training set/189_HC.png', '/content/drive/MyDrive/Colab Notebooks/fetal training set/191_HC.png', '/content/drive/MyDrive/Colab Notebooks/fetal training set/190_HC.png', '/content/drive/MyDrive/Colab Notebooks/fetal training set/185_HC.png', '/content/drive/MyDrive/Colab Notebooks/fetal training set/186_HC.png', '/content/drive/MyDrive/Colab Notebooks/fetal training set/194_HC.png', '/content/drive/MyDrive/Colab Notebooks/fetal training set/193_HC.png', '/content/drive/MyDrive/Colab Notebooks/fetal training set/192_HC.png', '/content/drive/MyDrive/Colab Notebooks/fetal training set/198_HC.png', '/content/drive/MyDrive/Colab Notebooks/fetal training set/200_HC.png', '/content/drive/MyDrive/Colab Notebooks/fetal training set/195_HC.png', '/content/drive/MyDrive/Colab Notebooks/fetal training set/199_HC.png', '/content/drive/MyDrive/Colab Notebooks/fetal training set/197_HC.png', '/content/drive/MyDrive/Colab Notebooks/fetal training set/196_HC.png', '/content/drive/MyDrive/Colab Notebooks/fetal training set/202_HC.png', '/content/drive/MyDrive/Colab Notebooks/fetal training set/203_HC.png', '/content/drive/MyDrive/Colab Notebooks/fetal training set/201_HC.png', '/content/drive/MyDrive/Colab Notebooks/fetal training set/205_HC.png', '/content/drive/MyDrive/Colab Notebooks/fetal training set/206_HC.png', '/content/drive/MyDrive/Colab Notebooks/fetal training set/204_HC.png', '/content/drive/MyDrive/Colab Notebooks/fetal training set/208_HC.png', '/content/drive/MyDrive/Colab Notebooks/fetal training set/207_HC.png', '/content/drive/MyDrive/Colab Notebooks/fetal training set/209_HC.png', '/content/drive/MyDrive/Colab Notebooks/fetal training set/212_HC.png', '/content/drive/MyDrive/Colab Notebooks/fetal training set/211_HC.png', '/content/drive/MyDrive/Colab Notebooks/fetal training set/210_HC.png', '/content/drive/MyDrive/Colab Notebooks/fetal training set/213_HC.png', '/content/drive/MyDrive/Colab Notebooks/fetal training set/214_HC.png', '/content/drive/MyDrive/Colab Notebooks/fetal training set/218_HC.png', '/content/drive/MyDrive/Colab Notebooks/fetal training set/216_HC.png', '/content/drive/MyDrive/Colab Notebooks/fetal training set/219_HC.png', '/content/drive/MyDrive/Colab Notebooks/fetal training set/215_HC.png', '/content/drive/MyDrive/Colab Notebooks/fetal training set/217_HC.png', '/content/drive/MyDrive/Colab Notebooks/fetal training set/224_HC.png', '/content/drive/MyDrive/Colab Notebooks/fetal training set/221_HC.png', '/content/drive/MyDrive/Colab Notebooks/fetal training set/222_HC.png', '/content/drive/MyDrive/Colab Notebooks/fetal training set/220_HC.png', '/content/drive/MyDrive/Colab Notebooks/fetal training set/223_HC.png', '/content/drive/MyDrive/Colab Notebooks/fetal training set/229_HC.png', '/content/drive/MyDrive/Colab Notebooks/fetal training set/226_HC.png', '/content/drive/MyDrive/Colab Notebooks/fetal training set/227_HC.png', '/content/drive/MyDrive/Colab Notebooks/fetal training set/228_HC.png', '/content/drive/MyDrive/Colab Notebooks/fetal training set/225_HC.png', '/content/drive/MyDrive/Colab Notebooks/fetal training set/234_HC.png', '/content/drive/MyDrive/Colab Notebooks/fetal training set/230_HC.png', '/content/drive/MyDrive/Colab Notebooks/fetal training set/233_HC.png', '/content/drive/MyDrive/Colab Notebooks/fetal training set/232_HC.png', '/content/drive/MyDrive/Colab Notebooks/fetal training set/231_HC.png', '/content/drive/MyDrive/Colab Notebooks/fetal training set/236_HC.png', '/content/drive/MyDrive/Colab Notebooks/fetal training set/235_HC.png', '/content/drive/MyDrive/Colab Notebooks/fetal training set/238_HC.png', '/content/drive/MyDrive/Colab Notebooks/fetal training set/237_HC.png', '/content/drive/MyDrive/Colab Notebooks/fetal training set/239_HC.png', '/content/drive/MyDrive/Colab Notebooks/fetal training set/243_HC.png', '/content/drive/MyDrive/Colab Notebooks/fetal training set/242_HC.png', '/content/drive/MyDrive/Colab Notebooks/fetal training set/241_HC.png', '/content/drive/MyDrive/Colab Notebooks/fetal training set/240_HC.png', '/content/drive/MyDrive/Colab Notebooks/fetal training set/246_HC.png', '/content/drive/MyDrive/Colab Notebooks/fetal training set/245_HC.png', '/content/drive/MyDrive/Colab Notebooks/fetal training set/244_HC.png', '/content/drive/MyDrive/Colab Notebooks/fetal training set/247_HC.png', '/content/drive/MyDrive/Colab Notebooks/fetal training set/250_HC.png', '/content/drive/MyDrive/Colab Notebooks/fetal training set/251_HC.png', '/content/drive/MyDrive/Colab Notebooks/fetal training set/249_HC.png', '/content/drive/MyDrive/Colab Notebooks/fetal training set/253_HC.png', '/content/drive/MyDrive/Colab Notebooks/fetal training set/252_HC.png', '/content/drive/MyDrive/Colab Notebooks/fetal training set/248_HC.png', '/content/drive/MyDrive/Colab Notebooks/fetal training set/256_HC.png', '/content/drive/MyDrive/Colab Notebooks/fetal training set/258_HC.png', '/content/drive/MyDrive/Colab Notebooks/fetal training set/255_HC.png', '/content/drive/MyDrive/Colab Notebooks/fetal training set/254_HC.png', '/content/drive/MyDrive/Colab Notebooks/fetal training set/257_HC.png', '/content/drive/MyDrive/Colab Notebooks/fetal training set/263_HC.png', '/content/drive/MyDrive/Colab Notebooks/fetal training set/259_HC.png', '/content/drive/MyDrive/Colab Notebooks/fetal training set/261_HC.png', '/content/drive/MyDrive/Colab Notebooks/fetal training set/262_HC.png', '/content/drive/MyDrive/Colab Notebooks/fetal training set/260_HC.png', '/content/drive/MyDrive/Colab Notebooks/fetal training set/267_HC.png', '/content/drive/MyDrive/Colab Notebooks/fetal training set/268_HC.png', '/content/drive/MyDrive/Colab Notebooks/fetal training set/264_HC.png', '/content/drive/MyDrive/Colab Notebooks/fetal training set/266_HC.png', '/content/drive/MyDrive/Colab Notebooks/fetal training set/265_HC.png', '/content/drive/MyDrive/Colab Notebooks/fetal training set/270_HC.png', '/content/drive/MyDrive/Colab Notebooks/fetal training set/269_HC.png', '/content/drive/MyDrive/Colab Notebooks/fetal training set/273_HC.png', '/content/drive/MyDrive/Colab Notebooks/fetal training set/271_HC.png', '/content/drive/MyDrive/Colab Notebooks/fetal training set/272_HC.png', '/content/drive/MyDrive/Colab Notebooks/fetal training set/277_HC.png', '/content/drive/MyDrive/Colab Notebooks/fetal training set/274_HC.png', '/content/drive/MyDrive/Colab Notebooks/fetal training set/276_HC.png', '/content/drive/MyDrive/Colab Notebooks/fetal training set/275_HC.png', '/content/drive/MyDrive/Colab Notebooks/fetal training set/282_HC.png', '/content/drive/MyDrive/Colab Notebooks/fetal training set/278_HC.png', '/content/drive/MyDrive/Colab Notebooks/fetal training set/283_HC.png', '/content/drive/MyDrive/Colab Notebooks/fetal training set/279_HC.png', '/content/drive/MyDrive/Colab Notebooks/fetal training set/281_HC.png', '/content/drive/MyDrive/Colab Notebooks/fetal training set/280_HC.png', '/content/drive/MyDrive/Colab Notebooks/fetal training set/288_HC.png', '/content/drive/MyDrive/Colab Notebooks/fetal training set/286_HC.png', '/content/drive/MyDrive/Colab Notebooks/fetal training set/287_HC.png', '/content/drive/MyDrive/Colab Notebooks/fetal training set/289_HC.png', '/content/drive/MyDrive/Colab Notebooks/fetal training set/285_HC.png', '/content/drive/MyDrive/Colab Notebooks/fetal training set/284_HC.png', '/content/drive/MyDrive/Colab Notebooks/fetal training set/290_HC.png', '/content/drive/MyDrive/Colab Notebooks/fetal training set/291_HC.png', '/content/drive/MyDrive/Colab Notebooks/fetal training set/292_HC.png', '/content/drive/MyDrive/Colab Notebooks/fetal training set/293_HC.png', '/content/drive/MyDrive/Colab Notebooks/fetal training set/297_HC.png', '/content/drive/MyDrive/Colab Notebooks/fetal training set/294_HC.png', '/content/drive/MyDrive/Colab Notebooks/fetal training set/296_HC.png', '/content/drive/MyDrive/Colab Notebooks/fetal training set/299_HC.png', '/content/drive/MyDrive/Colab Notebooks/fetal training set/298_HC.png', '/content/drive/MyDrive/Colab Notebooks/fetal training set/295_HC.png', '/content/drive/MyDrive/Colab Notebooks/fetal training set/304_HC.png', '/content/drive/MyDrive/Colab Notebooks/fetal training set/302_HC.png', '/content/drive/MyDrive/Colab Notebooks/fetal training set/303_HC.png', '/content/drive/MyDrive/Colab Notebooks/fetal training set/300_HC.png', '/content/drive/MyDrive/Colab Notebooks/fetal training set/301_HC.png', '/content/drive/MyDrive/Colab Notebooks/fetal training set/308_HC.png', '/content/drive/MyDrive/Colab Notebooks/fetal training set/309_HC.png', '/content/drive/MyDrive/Colab Notebooks/fetal training set/305_HC.png', '/content/drive/MyDrive/Colab Notebooks/fetal training set/310_HC.png', '/content/drive/MyDrive/Colab Notebooks/fetal training set/307_HC.png', '/content/drive/MyDrive/Colab Notebooks/fetal training set/306_HC.png', '/content/drive/MyDrive/Colab Notebooks/fetal training set/312_HC.png', '/content/drive/MyDrive/Colab Notebooks/fetal training set/313_HC.png', '/content/drive/MyDrive/Colab Notebooks/fetal training set/314_HC.png', '/content/drive/MyDrive/Colab Notebooks/fetal training set/311_HC.png', '/content/drive/MyDrive/Colab Notebooks/fetal training set/316_HC.png', '/content/drive/MyDrive/Colab Notebooks/fetal training set/319_HC.png', '/content/drive/MyDrive/Colab Notebooks/fetal training set/318_HC.png', '/content/drive/MyDrive/Colab Notebooks/fetal training set/315_HC.png', '/content/drive/MyDrive/Colab Notebooks/fetal training set/320_HC.png', '/content/drive/MyDrive/Colab Notebooks/fetal training set/317_HC.png', '/content/drive/MyDrive/Colab Notebooks/fetal training set/321_HC.png', '/content/drive/MyDrive/Colab Notebooks/fetal training set/322_HC.png', '/content/drive/MyDrive/Colab Notebooks/fetal training set/324_HC.png', '/content/drive/MyDrive/Colab Notebooks/fetal training set/323_HC.png', '/content/drive/MyDrive/Colab Notebooks/fetal training set/326_HC.png', '/content/drive/MyDrive/Colab Notebooks/fetal training set/325_HC.png', '/content/drive/MyDrive/Colab Notebooks/fetal training set/327_HC.png', '/content/drive/MyDrive/Colab Notebooks/fetal training set/328_HC.png', '/content/drive/MyDrive/Colab Notebooks/fetal training set/330_HC.png', '/content/drive/MyDrive/Colab Notebooks/fetal training set/331_HC.png', '/content/drive/MyDrive/Colab Notebooks/fetal training set/329_HC.png', '/content/drive/MyDrive/Colab Notebooks/fetal training set/333_HC.png', '/content/drive/MyDrive/Colab Notebooks/fetal training set/332_HC.png', '/content/drive/MyDrive/Colab Notebooks/fetal training set/336_HC.png', '/content/drive/MyDrive/Colab Notebooks/fetal training set/334_HC.png', '/content/drive/MyDrive/Colab Notebooks/fetal training set/335_HC.png', '/content/drive/MyDrive/Colab Notebooks/fetal training set/339_HC.png', '/content/drive/MyDrive/Colab Notebooks/fetal training set/340_HC.png', '/content/drive/MyDrive/Colab Notebooks/fetal training set/337_HC.png', '/content/drive/MyDrive/Colab Notebooks/fetal training set/341_HC.png', '/content/drive/MyDrive/Colab Notebooks/fetal training set/338_HC.png', '/content/drive/MyDrive/Colab Notebooks/fetal training set/342_HC.png', '/content/drive/MyDrive/Colab Notebooks/fetal training set/344_HC.png', '/content/drive/MyDrive/Colab Notebooks/fetal training set/346_HC.png', '/content/drive/MyDrive/Colab Notebooks/fetal training set/343_HC.png', '/content/drive/MyDrive/Colab Notebooks/fetal training set/345_HC.png', '/content/drive/MyDrive/Colab Notebooks/fetal training set/348_HC.png', '/content/drive/MyDrive/Colab Notebooks/fetal training set/351_HC.png', '/content/drive/MyDrive/Colab Notebooks/fetal training set/349_HC.png', '/content/drive/MyDrive/Colab Notebooks/fetal training set/350_HC.png', '/content/drive/MyDrive/Colab Notebooks/fetal training set/347_HC.png', '/content/drive/MyDrive/Colab Notebooks/fetal training set/352_HC.png', '/content/drive/MyDrive/Colab Notebooks/fetal training set/356_HC.png', '/content/drive/MyDrive/Colab Notebooks/fetal training set/355_HC.png', '/content/drive/MyDrive/Colab Notebooks/fetal training set/354_HC.png', '/content/drive/MyDrive/Colab Notebooks/fetal training set/353_HC.png', '/content/drive/MyDrive/Colab Notebooks/fetal training set/357_HC.png', '/content/drive/MyDrive/Colab Notebooks/fetal training set/358_HC.png', '/content/drive/MyDrive/Colab Notebooks/fetal training set/359_HC.png', '/content/drive/MyDrive/Colab Notebooks/fetal training set/360_HC.png', '/content/drive/MyDrive/Colab Notebooks/fetal training set/364_HC.png', '/content/drive/MyDrive/Colab Notebooks/fetal training set/362_HC.png', '/content/drive/MyDrive/Colab Notebooks/fetal training set/363_HC.png', '/content/drive/MyDrive/Colab Notebooks/fetal training set/361_HC.png', '/content/drive/MyDrive/Colab Notebooks/fetal training set/365_HC.png', '/content/drive/MyDrive/Colab Notebooks/fetal training set/366_HC.png', '/content/drive/MyDrive/Colab Notebooks/fetal training set/368_HC.png', '/content/drive/MyDrive/Colab Notebooks/fetal training set/370_HC.png', '/content/drive/MyDrive/Colab Notebooks/fetal training set/367_HC.png', '/content/drive/MyDrive/Colab Notebooks/fetal training set/369_HC.png', '/content/drive/MyDrive/Colab Notebooks/fetal training set/375_HC.png', '/content/drive/MyDrive/Colab Notebooks/fetal training set/373_HC.png', '/content/drive/MyDrive/Colab Notebooks/fetal training set/372_HC.png', '/content/drive/MyDrive/Colab Notebooks/fetal training set/371_HC.png', '/content/drive/MyDrive/Colab Notebooks/fetal training set/374_HC.png', '/content/drive/MyDrive/Colab Notebooks/fetal training set/380_HC.png', '/content/drive/MyDrive/Colab Notebooks/fetal training set/376_HC.png', '/content/drive/MyDrive/Colab Notebooks/fetal training set/377_HC.png', '/content/drive/MyDrive/Colab Notebooks/fetal training set/378_HC.png', '/content/drive/MyDrive/Colab Notebooks/fetal training set/379_HC.png', '/content/drive/MyDrive/Colab Notebooks/fetal training set/382_HC.png', '/content/drive/MyDrive/Colab Notebooks/fetal training set/381_HC.png', '/content/drive/MyDrive/Colab Notebooks/fetal training set/384_HC.png', '/content/drive/MyDrive/Colab Notebooks/fetal training set/383_HC.png', '/content/drive/MyDrive/Colab Notebooks/fetal training set/388_HC.png', '/content/drive/MyDrive/Colab Notebooks/fetal training set/386_HC.png', '/content/drive/MyDrive/Colab Notebooks/fetal training set/387_HC.png', '/content/drive/MyDrive/Colab Notebooks/fetal training set/385_HC.png', '/content/drive/MyDrive/Colab Notebooks/fetal training set/390_HC.png', '/content/drive/MyDrive/Colab Notebooks/fetal training set/389_HC.png', '/content/drive/MyDrive/Colab Notebooks/fetal training set/393_HC.png', '/content/drive/MyDrive/Colab Notebooks/fetal training set/394_HC.png', '/content/drive/MyDrive/Colab Notebooks/fetal training set/392_HC.png', '/content/drive/MyDrive/Colab Notebooks/fetal training set/391_HC.png', '/content/drive/MyDrive/Colab Notebooks/fetal training set/396_HC.png', '/content/drive/MyDrive/Colab Notebooks/fetal training set/398_HC.png', '/content/drive/MyDrive/Colab Notebooks/fetal training set/395_HC.png', '/content/drive/MyDrive/Colab Notebooks/fetal training set/397_HC.png', '/content/drive/MyDrive/Colab Notebooks/fetal training set/399_HC.png', '/content/drive/MyDrive/Colab Notebooks/fetal training set/404_HC.png', '/content/drive/MyDrive/Colab Notebooks/fetal training set/402_HC.png', '/content/drive/MyDrive/Colab Notebooks/fetal training set/400_HC.png', '/content/drive/MyDrive/Colab Notebooks/fetal training set/401_HC.png', '/content/drive/MyDrive/Colab Notebooks/fetal training set/403_HC.png', '/content/drive/MyDrive/Colab Notebooks/fetal training set/410_HC.png', '/content/drive/MyDrive/Colab Notebooks/fetal training set/409_HC.png', '/content/drive/MyDrive/Colab Notebooks/fetal training set/405_HC.png', '/content/drive/MyDrive/Colab Notebooks/fetal training set/406_HC.png', '/content/drive/MyDrive/Colab Notebooks/fetal training set/407_HC.png', '/content/drive/MyDrive/Colab Notebooks/fetal training set/408_HC.png', '/content/drive/MyDrive/Colab Notebooks/fetal training set/415_HC.png', '/content/drive/MyDrive/Colab Notebooks/fetal training set/417_HC.png', '/content/drive/MyDrive/Colab Notebooks/fetal training set/411_HC.png', '/content/drive/MyDrive/Colab Notebooks/fetal training set/414_HC.png', '/content/drive/MyDrive/Colab Notebooks/fetal training set/412_HC.png', '/content/drive/MyDrive/Colab Notebooks/fetal training set/416_HC.png', '/content/drive/MyDrive/Colab Notebooks/fetal training set/413_HC.png', '/content/drive/MyDrive/Colab Notebooks/fetal training set/421_HC.png', '/content/drive/MyDrive/Colab Notebooks/fetal training set/420_HC.png', '/content/drive/MyDrive/Colab Notebooks/fetal training set/423_HC.png', '/content/drive/MyDrive/Colab Notebooks/fetal training set/418_HC.png', '/content/drive/MyDrive/Colab Notebooks/fetal training set/422_HC.png', '/content/drive/MyDrive/Colab Notebooks/fetal training set/419_HC.png', '/content/drive/MyDrive/Colab Notebooks/fetal training set/425_HC.png', '/content/drive/MyDrive/Colab Notebooks/fetal training set/424_HC.png', '/content/drive/MyDrive/Colab Notebooks/fetal training set/427_HC.png', '/content/drive/MyDrive/Colab Notebooks/fetal training set/430_HC.png', '/content/drive/MyDrive/Colab Notebooks/fetal training set/429_HC.png', '/content/drive/MyDrive/Colab Notebooks/fetal training set/431_HC.png', '/content/drive/MyDrive/Colab Notebooks/fetal training set/426_HC.png', '/content/drive/MyDrive/Colab Notebooks/fetal training set/428_HC.png', '/content/drive/MyDrive/Colab Notebooks/fetal training set/434_HC.png', '/content/drive/MyDrive/Colab Notebooks/fetal training set/432_HC.png', '/content/drive/MyDrive/Colab Notebooks/fetal training set/435_HC.png', '/content/drive/MyDrive/Colab Notebooks/fetal training set/433_HC.png', '/content/drive/MyDrive/Colab Notebooks/fetal training set/436_HC.png', '/content/drive/MyDrive/Colab Notebooks/fetal training set/440_HC.png', '/content/drive/MyDrive/Colab Notebooks/fetal training set/437_HC.png', '/content/drive/MyDrive/Colab Notebooks/fetal training set/438_HC.png', '/content/drive/MyDrive/Colab Notebooks/fetal training set/439_HC.png', '/content/drive/MyDrive/Colab Notebooks/fetal training set/443_HC.png', '/content/drive/MyDrive/Colab Notebooks/fetal training set/445_HC.png', '/content/drive/MyDrive/Colab Notebooks/fetal training set/444_HC.png', '/content/drive/MyDrive/Colab Notebooks/fetal training set/446_HC.png', '/content/drive/MyDrive/Colab Notebooks/fetal training set/441_HC.png', '/content/drive/MyDrive/Colab Notebooks/fetal training set/442_HC.png', '/content/drive/MyDrive/Colab Notebooks/fetal training set/448_HC.png', '/content/drive/MyDrive/Colab Notebooks/fetal training set/450_HC.png', '/content/drive/MyDrive/Colab Notebooks/fetal training set/447_HC.png', '/content/drive/MyDrive/Colab Notebooks/fetal training set/451_HC.png', '/content/drive/MyDrive/Colab Notebooks/fetal training set/449_HC.png', '/content/drive/MyDrive/Colab Notebooks/fetal training set/452_HC.png', '/content/drive/MyDrive/Colab Notebooks/fetal training set/456_HC.png', '/content/drive/MyDrive/Colab Notebooks/fetal training set/453_HC.png', '/content/drive/MyDrive/Colab Notebooks/fetal training set/454_HC.png', '/content/drive/MyDrive/Colab Notebooks/fetal training set/455_HC.png', '/content/drive/MyDrive/Colab Notebooks/fetal training set/459_HC.png', '/content/drive/MyDrive/Colab Notebooks/fetal training set/458_HC.png', '/content/drive/MyDrive/Colab Notebooks/fetal training set/457_HC.png', '/content/drive/MyDrive/Colab Notebooks/fetal training set/460_HC.png', '/content/drive/MyDrive/Colab Notebooks/fetal training set/461_HC.png', '/content/drive/MyDrive/Colab Notebooks/fetal training set/465_HC.png', '/content/drive/MyDrive/Colab Notebooks/fetal training set/463_HC.png', '/content/drive/MyDrive/Colab Notebooks/fetal training set/466_HC.png', '/content/drive/MyDrive/Colab Notebooks/fetal training set/467_HC.png', '/content/drive/MyDrive/Colab Notebooks/fetal training set/464_HC.png', '/content/drive/MyDrive/Colab Notebooks/fetal training set/462_HC.png', '/content/drive/MyDrive/Colab Notebooks/fetal training set/470_HC.png', '/content/drive/MyDrive/Colab Notebooks/fetal training set/472_HC.png', '/content/drive/MyDrive/Colab Notebooks/fetal training set/471_HC.png', '/content/drive/MyDrive/Colab Notebooks/fetal training set/468_HC.png', '/content/drive/MyDrive/Colab Notebooks/fetal training set/469_HC.png', '/content/drive/MyDrive/Colab Notebooks/fetal training set/473_HC.png', '/content/drive/MyDrive/Colab Notebooks/fetal training set/478_HC.png', '/content/drive/MyDrive/Colab Notebooks/fetal training set/477_HC.png', '/content/drive/MyDrive/Colab Notebooks/fetal training set/474_HC.png', '/content/drive/MyDrive/Colab Notebooks/fetal training set/476_HC.png', '/content/drive/MyDrive/Colab Notebooks/fetal training set/475_HC.png', '/content/drive/MyDrive/Colab Notebooks/fetal training set/480_HC.png', '/content/drive/MyDrive/Colab Notebooks/fetal training set/479_HC.png', '/content/drive/MyDrive/Colab Notebooks/fetal training set/481_HC.png', '/content/drive/MyDrive/Colab Notebooks/fetal training set/484_HC.png', '/content/drive/MyDrive/Colab Notebooks/fetal training set/485_HC.png', '/content/drive/MyDrive/Colab Notebooks/fetal training set/483_HC.png', '/content/drive/MyDrive/Colab Notebooks/fetal training set/482_HC.png', '/content/drive/MyDrive/Colab Notebooks/fetal training set/486_HC.png', '/content/drive/MyDrive/Colab Notebooks/fetal training set/491_HC.png', '/content/drive/MyDrive/Colab Notebooks/fetal training set/488_HC.png', '/content/drive/MyDrive/Colab Notebooks/fetal training set/487_HC.png', '/content/drive/MyDrive/Colab Notebooks/fetal training set/489_HC.png', '/content/drive/MyDrive/Colab Notebooks/fetal training set/490_HC.png', '/content/drive/MyDrive/Colab Notebooks/fetal training set/492_HC.png', '/content/drive/MyDrive/Colab Notebooks/fetal training set/493_HC.png', '/content/drive/MyDrive/Colab Notebooks/fetal training set/494_HC.png', '/content/drive/MyDrive/Colab Notebooks/fetal training set/495_HC.png', '/content/drive/MyDrive/Colab Notebooks/fetal training set/497_HC.png', '/content/drive/MyDrive/Colab Notebooks/fetal training set/498_HC.png', '/content/drive/MyDrive/Colab Notebooks/fetal training set/500_HC.png', '/content/drive/MyDrive/Colab Notebooks/fetal training set/496_HC.png', '/content/drive/MyDrive/Colab Notebooks/fetal training set/499_HC.png', '/content/drive/MyDrive/Colab Notebooks/fetal training set/503_HC.png', '/content/drive/MyDrive/Colab Notebooks/fetal training set/504_HC.png', '/content/drive/MyDrive/Colab Notebooks/fetal training set/502_HC.png', '/content/drive/MyDrive/Colab Notebooks/fetal training set/501_HC.png', '/content/drive/MyDrive/Colab Notebooks/fetal training set/505_HC.png', '/content/drive/MyDrive/Colab Notebooks/fetal training set/506_HC.png', '/content/drive/MyDrive/Colab Notebooks/fetal training set/510_HC.png', '/content/drive/MyDrive/Colab Notebooks/fetal training set/507_HC.png', '/content/drive/MyDrive/Colab Notebooks/fetal training set/508_HC.png', '/content/drive/MyDrive/Colab Notebooks/fetal training set/509_HC.png', '/content/drive/MyDrive/Colab Notebooks/fetal training set/514_HC.png', '/content/drive/MyDrive/Colab Notebooks/fetal training set/513_HC.png', '/content/drive/MyDrive/Colab Notebooks/fetal training set/512_HC.png', '/content/drive/MyDrive/Colab Notebooks/fetal training set/515_HC.png', '/content/drive/MyDrive/Colab Notebooks/fetal training set/511_HC.png', '/content/drive/MyDrive/Colab Notebooks/fetal training set/516_HC.png', '/content/drive/MyDrive/Colab Notebooks/fetal training set/520_HC.png', '/content/drive/MyDrive/Colab Notebooks/fetal training set/519_HC.png', '/content/drive/MyDrive/Colab Notebooks/fetal training set/518_HC.png', '/content/drive/MyDrive/Colab Notebooks/fetal training set/521_HC.png', '/content/drive/MyDrive/Colab Notebooks/fetal training set/517_HC.png', '/content/drive/MyDrive/Colab Notebooks/fetal training set/525_HC.png', '/content/drive/MyDrive/Colab Notebooks/fetal training set/524_HC.png', '/content/drive/MyDrive/Colab Notebooks/fetal training set/526_HC.png', '/content/drive/MyDrive/Colab Notebooks/fetal training set/522_HC.png', '/content/drive/MyDrive/Colab Notebooks/fetal training set/523_HC.png', '/content/drive/MyDrive/Colab Notebooks/fetal training set/529_HC.png', '/content/drive/MyDrive/Colab Notebooks/fetal training set/531_HC.png', '/content/drive/MyDrive/Colab Notebooks/fetal training set/530_HC.png', '/content/drive/MyDrive/Colab Notebooks/fetal training set/528_HC.png', '/content/drive/MyDrive/Colab Notebooks/fetal training set/527_HC.png', '/content/drive/MyDrive/Colab Notebooks/fetal training set/537_HC.png', '/content/drive/MyDrive/Colab Notebooks/fetal training set/535_HC.png', '/content/drive/MyDrive/Colab Notebooks/fetal training set/534_HC.png', '/content/drive/MyDrive/Colab Notebooks/fetal training set/533_HC.png', '/content/drive/MyDrive/Colab Notebooks/fetal training set/532_HC.png', '/content/drive/MyDrive/Colab Notebooks/fetal training set/536_HC.png', '/content/drive/MyDrive/Colab Notebooks/fetal training set/539_HC.png', '/content/drive/MyDrive/Colab Notebooks/fetal training set/540_HC.png', '/content/drive/MyDrive/Colab Notebooks/fetal training set/541_HC.png', '/content/drive/MyDrive/Colab Notebooks/fetal training set/538_HC.png', '/content/drive/MyDrive/Colab Notebooks/fetal training set/542_HC.png', '/content/drive/MyDrive/Colab Notebooks/fetal training set/543_HC.png', '/content/drive/MyDrive/Colab Notebooks/fetal training set/546_HC.png', '/content/drive/MyDrive/Colab Notebooks/fetal training set/544_HC.png', '/content/drive/MyDrive/Colab Notebooks/fetal training set/545_HC.png', '/content/drive/MyDrive/Colab Notebooks/fetal training set/547_HC.png', '/content/drive/MyDrive/Colab Notebooks/fetal training set/552_HC.png', '/content/drive/MyDrive/Colab Notebooks/fetal training set/548_HC.png', '/content/drive/MyDrive/Colab Notebooks/fetal training set/551_HC.png', '/content/drive/MyDrive/Colab Notebooks/fetal training set/549_HC.png', '/content/drive/MyDrive/Colab Notebooks/fetal training set/550_HC.png', '/content/drive/MyDrive/Colab Notebooks/fetal training set/556_HC.png', '/content/drive/MyDrive/Colab Notebooks/fetal training set/553_HC.png', '/content/drive/MyDrive/Colab Notebooks/fetal training set/554_HC.png', '/content/drive/MyDrive/Colab Notebooks/fetal training set/557_HC.png', '/content/drive/MyDrive/Colab Notebooks/fetal training set/555_HC.png', '/content/drive/MyDrive/Colab Notebooks/fetal training set/560_HC.png', '/content/drive/MyDrive/Colab Notebooks/fetal training set/561_HC.png', '/content/drive/MyDrive/Colab Notebooks/fetal training set/559_HC.png', '/content/drive/MyDrive/Colab Notebooks/fetal training set/558_HC.png', '/content/drive/MyDrive/Colab Notebooks/fetal training set/563_HC.png', '/content/drive/MyDrive/Colab Notebooks/fetal training set/565_HC.png', '/content/drive/MyDrive/Colab Notebooks/fetal training set/566_HC.png', '/content/drive/MyDrive/Colab Notebooks/fetal training set/562_HC.png', '/content/drive/MyDrive/Colab Notebooks/fetal training set/564_HC.png', '/content/drive/MyDrive/Colab Notebooks/fetal training set/568_HC.png', '/content/drive/MyDrive/Colab Notebooks/fetal training set/567_HC.png', '/content/drive/MyDrive/Colab Notebooks/fetal training set/569_HC.png', '/content/drive/MyDrive/Colab Notebooks/fetal training set/571_HC.png', '/content/drive/MyDrive/Colab Notebooks/fetal training set/574_HC.png', '/content/drive/MyDrive/Colab Notebooks/fetal training set/573_HC.png', '/content/drive/MyDrive/Colab Notebooks/fetal training set/575_HC.png', '/content/drive/MyDrive/Colab Notebooks/fetal training set/572_HC.png', '/content/drive/MyDrive/Colab Notebooks/fetal training set/570_HC.png', '/content/drive/MyDrive/Colab Notebooks/fetal training set/578_HC.png', '/content/drive/MyDrive/Colab Notebooks/fetal training set/580_HC.png', '/content/drive/MyDrive/Colab Notebooks/fetal training set/576_HC.png', '/content/drive/MyDrive/Colab Notebooks/fetal training set/579_HC.png', '/content/drive/MyDrive/Colab Notebooks/fetal training set/577_HC.png', '/content/drive/MyDrive/Colab Notebooks/fetal training set/581_HC.png', '/content/drive/MyDrive/Colab Notebooks/fetal training set/586_HC.png', '/content/drive/MyDrive/Colab Notebooks/fetal training set/583_HC.png', '/content/drive/MyDrive/Colab Notebooks/fetal training set/585_HC.png', '/content/drive/MyDrive/Colab Notebooks/fetal training set/584_HC.png', '/content/drive/MyDrive/Colab Notebooks/fetal training set/582_HC.png', '/content/drive/MyDrive/Colab Notebooks/fetal training set/589_HC.png', '/content/drive/MyDrive/Colab Notebooks/fetal training set/590_HC.png', '/content/drive/MyDrive/Colab Notebooks/fetal training set/591_HC.png', '/content/drive/MyDrive/Colab Notebooks/fetal training set/587_HC.png', '/content/drive/MyDrive/Colab Notebooks/fetal training set/588_HC.png', '/content/drive/MyDrive/Colab Notebooks/fetal training set/593_HC.png', '/content/drive/MyDrive/Colab Notebooks/fetal training set/596_HC.png', '/content/drive/MyDrive/Colab Notebooks/fetal training set/594_HC.png', '/content/drive/MyDrive/Colab Notebooks/fetal training set/595_HC.png', '/content/drive/MyDrive/Colab Notebooks/fetal training set/592_HC.png', '/content/drive/MyDrive/Colab Notebooks/fetal training set/602_HC.png', '/content/drive/MyDrive/Colab Notebooks/fetal training set/600_HC.png', '/content/drive/MyDrive/Colab Notebooks/fetal training set/598_HC.png', '/content/drive/MyDrive/Colab Notebooks/fetal training set/599_HC.png', '/content/drive/MyDrive/Colab Notebooks/fetal training set/601_HC.png', '/content/drive/MyDrive/Colab Notebooks/fetal training set/597_HC.png', '/content/drive/MyDrive/Colab Notebooks/fetal training set/604_HC.png', '/content/drive/MyDrive/Colab Notebooks/fetal training set/606_HC.png', '/content/drive/MyDrive/Colab Notebooks/fetal training set/605_HC.png', '/content/drive/MyDrive/Colab Notebooks/fetal training set/608_HC.png', '/content/drive/MyDrive/Colab Notebooks/fetal training set/603_HC.png', '/content/drive/MyDrive/Colab Notebooks/fetal training set/607_HC.png', '/content/drive/MyDrive/Colab Notebooks/fetal training set/609_HC.png', '/content/drive/MyDrive/Colab Notebooks/fetal training set/610_HC.png', '/content/drive/MyDrive/Colab Notebooks/fetal training set/613_HC.png', '/content/drive/MyDrive/Colab Notebooks/fetal training set/611_HC.png', '/content/drive/MyDrive/Colab Notebooks/fetal training set/612_HC.png', '/content/drive/MyDrive/Colab Notebooks/fetal training set/615_HC.png', '/content/drive/MyDrive/Colab Notebooks/fetal training set/614_HC.png', '/content/drive/MyDrive/Colab Notebooks/fetal training set/617_HC.png', '/content/drive/MyDrive/Colab Notebooks/fetal training set/616_HC.png', '/content/drive/MyDrive/Colab Notebooks/fetal training set/623_HC.png', '/content/drive/MyDrive/Colab Notebooks/fetal training set/619_HC.png', '/content/drive/MyDrive/Colab Notebooks/fetal training set/620_HC.png', '/content/drive/MyDrive/Colab Notebooks/fetal training set/621_HC.png', '/content/drive/MyDrive/Colab Notebooks/fetal training set/622_HC.png', '/content/drive/MyDrive/Colab Notebooks/fetal training set/618_HC.png', '/content/drive/MyDrive/Colab Notebooks/fetal training set/625_HC.png', '/content/drive/MyDrive/Colab Notebooks/fetal training set/627_HC.png', '/content/drive/MyDrive/Colab Notebooks/fetal training set/624_HC.png', '/content/drive/MyDrive/Colab Notebooks/fetal training set/628_HC.png', '/content/drive/MyDrive/Colab Notebooks/fetal training set/629_HC.png', '/content/drive/MyDrive/Colab Notebooks/fetal training set/626_HC.png', '/content/drive/MyDrive/Colab Notebooks/fetal training set/633_HC.png', '/content/drive/MyDrive/Colab Notebooks/fetal training set/632_HC.png', '/content/drive/MyDrive/Colab Notebooks/fetal training set/631_HC.png', '/content/drive/MyDrive/Colab Notebooks/fetal training set/630_HC.png', '/content/drive/MyDrive/Colab Notebooks/fetal training set/634_HC.png', '/content/drive/MyDrive/Colab Notebooks/fetal training set/637_HC.png', '/content/drive/MyDrive/Colab Notebooks/fetal training set/636_HC.png', '/content/drive/MyDrive/Colab Notebooks/fetal training set/635_HC.png', '/content/drive/MyDrive/Colab Notebooks/fetal training set/638_HC.png', '/content/drive/MyDrive/Colab Notebooks/fetal training set/639_HC.png', '/content/drive/MyDrive/Colab Notebooks/fetal training set/646_HC.png', '/content/drive/MyDrive/Colab Notebooks/fetal training set/641_HC.png', '/content/drive/MyDrive/Colab Notebooks/fetal training set/642_HC.png', '/content/drive/MyDrive/Colab Notebooks/fetal training set/645_HC.png', '/content/drive/MyDrive/Colab Notebooks/fetal training set/643_HC.png', '/content/drive/MyDrive/Colab Notebooks/fetal training set/640_HC.png', '/content/drive/MyDrive/Colab Notebooks/fetal training set/644_HC.png', '/content/drive/MyDrive/Colab Notebooks/fetal training set/651_HC.png', '/content/drive/MyDrive/Colab Notebooks/fetal training set/650_HC.png', '/content/drive/MyDrive/Colab Notebooks/fetal training set/649_HC.png', '/content/drive/MyDrive/Colab Notebooks/fetal training set/648_HC.png', '/content/drive/MyDrive/Colab Notebooks/fetal training set/647_HC.png', '/content/drive/MyDrive/Colab Notebooks/fetal training set/655_HC.png', '/content/drive/MyDrive/Colab Notebooks/fetal training set/652_HC.png', '/content/drive/MyDrive/Colab Notebooks/fetal training set/653_HC.png', '/content/drive/MyDrive/Colab Notebooks/fetal training set/654_HC.png', '/content/drive/MyDrive/Colab Notebooks/fetal training set/656_HC.png', '/content/drive/MyDrive/Colab Notebooks/fetal training set/661_HC.png', '/content/drive/MyDrive/Colab Notebooks/fetal training set/657_HC.png', '/content/drive/MyDrive/Colab Notebooks/fetal training set/660_HC.png', '/content/drive/MyDrive/Colab Notebooks/fetal training set/662_HC.png', '/content/drive/MyDrive/Colab Notebooks/fetal training set/659_HC.png', '/content/drive/MyDrive/Colab Notebooks/fetal training set/658_HC.png', '/content/drive/MyDrive/Colab Notebooks/fetal training set/667_HC.png', '/content/drive/MyDrive/Colab Notebooks/fetal training set/663_HC.png', '/content/drive/MyDrive/Colab Notebooks/fetal training set/668_HC.png', '/content/drive/MyDrive/Colab Notebooks/fetal training set/666_HC.png', '/content/drive/MyDrive/Colab Notebooks/fetal training set/664_HC.png', '/content/drive/MyDrive/Colab Notebooks/fetal training set/665_HC.png', '/content/drive/MyDrive/Colab Notebooks/fetal training set/673_HC.png', '/content/drive/MyDrive/Colab Notebooks/fetal training set/672_HC.png', '/content/drive/MyDrive/Colab Notebooks/fetal training set/669_HC.png', '/content/drive/MyDrive/Colab Notebooks/fetal training set/670_HC.png', '/content/drive/MyDrive/Colab Notebooks/fetal training set/671_HC.png', '/content/drive/MyDrive/Colab Notebooks/fetal training set/675_HC.png', '/content/drive/MyDrive/Colab Notebooks/fetal training set/676_HC.png', '/content/drive/MyDrive/Colab Notebooks/fetal training set/674_HC.png', '/content/drive/MyDrive/Colab Notebooks/fetal training set/677_HC.png', '/content/drive/MyDrive/Colab Notebooks/fetal training set/678_HC.png', '/content/drive/MyDrive/Colab Notebooks/fetal training set/684_HC.png', '/content/drive/MyDrive/Colab Notebooks/fetal training set/683_HC.png', '/content/drive/MyDrive/Colab Notebooks/fetal training set/682_HC.png', '/content/drive/MyDrive/Colab Notebooks/fetal training set/680_HC.png', '/content/drive/MyDrive/Colab Notebooks/fetal training set/685_HC.png', '/content/drive/MyDrive/Colab Notebooks/fetal training set/681_HC.png', '/content/drive/MyDrive/Colab Notebooks/fetal training set/679_HC.png', '/content/drive/MyDrive/Colab Notebooks/fetal training set/687_HC.png', '/content/drive/MyDrive/Colab Notebooks/fetal training set/689_HC.png', '/content/drive/MyDrive/Colab Notebooks/fetal training set/686_HC.png', '/content/drive/MyDrive/Colab Notebooks/fetal training set/688_HC.png', '/content/drive/MyDrive/Colab Notebooks/fetal training set/690_HC.png', '/content/drive/MyDrive/Colab Notebooks/fetal training set/692_HC.png', '/content/drive/MyDrive/Colab Notebooks/fetal training set/693_HC.png', '/content/drive/MyDrive/Colab Notebooks/fetal training set/691_HC.png', '/content/drive/MyDrive/Colab Notebooks/fetal training set/694_HC.png', '/content/drive/MyDrive/Colab Notebooks/fetal training set/695_HC.png', '/content/drive/MyDrive/Colab Notebooks/fetal training set/702_HC.png', '/content/drive/MyDrive/Colab Notebooks/fetal training set/697_HC.png', '/content/drive/MyDrive/Colab Notebooks/fetal training set/696_HC.png', '/content/drive/MyDrive/Colab Notebooks/fetal training set/698_HC.png', '/content/drive/MyDrive/Colab Notebooks/fetal training set/701_HC.png', '/content/drive/MyDrive/Colab Notebooks/fetal training set/700_HC.png', '/content/drive/MyDrive/Colab Notebooks/fetal training set/699_HC.png', '/content/drive/MyDrive/Colab Notebooks/fetal training set/705_HC.png', '/content/drive/MyDrive/Colab Notebooks/fetal training set/704_HC.png', '/content/drive/MyDrive/Colab Notebooks/fetal training set/703_HC.png', '/content/drive/MyDrive/Colab Notebooks/fetal training set/706_HC.png', '/content/drive/MyDrive/Colab Notebooks/fetal training set/707_HC.png', '/content/drive/MyDrive/Colab Notebooks/fetal training set/711_HC.png', '/content/drive/MyDrive/Colab Notebooks/fetal training set/710_HC.png', '/content/drive/MyDrive/Colab Notebooks/fetal training set/709_HC.png', '/content/drive/MyDrive/Colab Notebooks/fetal training set/708_HC.png', '/content/drive/MyDrive/Colab Notebooks/fetal training set/714_HC.png', '/content/drive/MyDrive/Colab Notebooks/fetal training set/716_HC.png', '/content/drive/MyDrive/Colab Notebooks/fetal training set/715_HC.png', '/content/drive/MyDrive/Colab Notebooks/fetal training set/713_HC.png', '/content/drive/MyDrive/Colab Notebooks/fetal training set/712_HC.png', '/content/drive/MyDrive/Colab Notebooks/fetal training set/720_HC.png', '/content/drive/MyDrive/Colab Notebooks/fetal training set/718_HC.png', '/content/drive/MyDrive/Colab Notebooks/fetal training set/721_HC.png', '/content/drive/MyDrive/Colab Notebooks/fetal training set/717_HC.png', '/content/drive/MyDrive/Colab Notebooks/fetal training set/722_HC.png', '/content/drive/MyDrive/Colab Notebooks/fetal training set/719_HC.png', '/content/drive/MyDrive/Colab Notebooks/fetal training set/727_HC.png', '/content/drive/MyDrive/Colab Notebooks/fetal training set/725_HC.png', '/content/drive/MyDrive/Colab Notebooks/fetal training set/726_HC.png', '/content/drive/MyDrive/Colab Notebooks/fetal training set/728_HC.png', '/content/drive/MyDrive/Colab Notebooks/fetal training set/724_HC.png', '/content/drive/MyDrive/Colab Notebooks/fetal training set/723_HC.png', '/content/drive/MyDrive/Colab Notebooks/fetal training set/730_HC.png', '/content/drive/MyDrive/Colab Notebooks/fetal training set/731_HC.png', '/content/drive/MyDrive/Colab Notebooks/fetal training set/729_HC.png', '/content/drive/MyDrive/Colab Notebooks/fetal training set/732_HC.png', '/content/drive/MyDrive/Colab Notebooks/fetal training set/737_HC.png', '/content/drive/MyDrive/Colab Notebooks/fetal training set/736_HC.png', '/content/drive/MyDrive/Colab Notebooks/fetal training set/735_HC.png', '/content/drive/MyDrive/Colab Notebooks/fetal training set/734_HC.png', '/content/drive/MyDrive/Colab Notebooks/fetal training set/733_HC.png', '/content/drive/MyDrive/Colab Notebooks/fetal training set/738_HC.png', '/content/drive/MyDrive/Colab Notebooks/fetal training set/740_HC.png', '/content/drive/MyDrive/Colab Notebooks/fetal training set/744_HC.png', '/content/drive/MyDrive/Colab Notebooks/fetal training set/743_HC.png', '/content/drive/MyDrive/Colab Notebooks/fetal training set/739_HC.png', '/content/drive/MyDrive/Colab Notebooks/fetal training set/742_HC.png', '/content/drive/MyDrive/Colab Notebooks/fetal training set/741_HC.png', '/content/drive/MyDrive/Colab Notebooks/fetal training set/745_HC.png', '/content/drive/MyDrive/Colab Notebooks/fetal training set/747_HC.png', '/content/drive/MyDrive/Colab Notebooks/fetal training set/749_HC.png', '/content/drive/MyDrive/Colab Notebooks/fetal training set/746_HC.png', '/content/drive/MyDrive/Colab Notebooks/fetal training set/748_HC.png', '/content/drive/MyDrive/Colab Notebooks/fetal training set/750_HC.png', '/content/drive/MyDrive/Colab Notebooks/fetal training set/752_HC.png', '/content/drive/MyDrive/Colab Notebooks/fetal training set/755_HC.png', '/content/drive/MyDrive/Colab Notebooks/fetal training set/751_HC.png', '/content/drive/MyDrive/Colab Notebooks/fetal training set/753_HC.png', '/content/drive/MyDrive/Colab Notebooks/fetal training set/754_HC.png', '/content/drive/MyDrive/Colab Notebooks/fetal training set/761_HC.png', '/content/drive/MyDrive/Colab Notebooks/fetal training set/763_HC.png', '/content/drive/MyDrive/Colab Notebooks/fetal training set/762_HC.png', '/content/drive/MyDrive/Colab Notebooks/fetal training set/760_HC.png', '/content/drive/MyDrive/Colab Notebooks/fetal training set/759_HC.png', '/content/drive/MyDrive/Colab Notebooks/fetal training set/757_HC.png', '/content/drive/MyDrive/Colab Notebooks/fetal training set/758_HC.png', '/content/drive/MyDrive/Colab Notebooks/fetal training set/756_HC.png', '/content/drive/MyDrive/Colab Notebooks/fetal training set/766_HC.png', '/content/drive/MyDrive/Colab Notebooks/fetal training set/768_HC.png', '/content/drive/MyDrive/Colab Notebooks/fetal training set/765_HC.png', '/content/drive/MyDrive/Colab Notebooks/fetal training set/764_HC.png', '/content/drive/MyDrive/Colab Notebooks/fetal training set/767_HC.png', '/content/drive/MyDrive/Colab Notebooks/fetal training set/769_HC.png', '/content/drive/MyDrive/Colab Notebooks/fetal training set/774_HC.png', '/content/drive/MyDrive/Colab Notebooks/fetal training set/770_HC.png', '/content/drive/MyDrive/Colab Notebooks/fetal training set/772_HC.png', '/content/drive/MyDrive/Colab Notebooks/fetal training set/771_HC.png', '/content/drive/MyDrive/Colab Notebooks/fetal training set/773_HC.png', '/content/drive/MyDrive/Colab Notebooks/fetal training set/775_HC.png', '/content/drive/MyDrive/Colab Notebooks/fetal training set/778_HC.png', '/content/drive/MyDrive/Colab Notebooks/fetal training set/777_HC.png', '/content/drive/MyDrive/Colab Notebooks/fetal training set/779_HC.png', '/content/drive/MyDrive/Colab Notebooks/fetal training set/776_HC.png', '/content/drive/MyDrive/Colab Notebooks/fetal training set/783_HC.png', '/content/drive/MyDrive/Colab Notebooks/fetal training set/780_HC.png', '/content/drive/MyDrive/Colab Notebooks/fetal training set/782_HC.png', '/content/drive/MyDrive/Colab Notebooks/fetal training set/781_HC.png', '/content/drive/MyDrive/Colab Notebooks/fetal training set/787_HC.png', '/content/drive/MyDrive/Colab Notebooks/fetal training set/786_HC.png', '/content/drive/MyDrive/Colab Notebooks/fetal training set/788_HC.png', '/content/drive/MyDrive/Colab Notebooks/fetal training set/785_HC.png', '/content/drive/MyDrive/Colab Notebooks/fetal training set/784_HC.png', '/content/drive/MyDrive/Colab Notebooks/fetal training set/790_HC.png', '/content/drive/MyDrive/Colab Notebooks/fetal training set/791_HC.png', '/content/drive/MyDrive/Colab Notebooks/fetal training set/789_HC.png', '/content/drive/MyDrive/Colab Notebooks/fetal training set/794_HC.png', '/content/drive/MyDrive/Colab Notebooks/fetal training set/792_HC.png', '/content/drive/MyDrive/Colab Notebooks/fetal training set/793_HC.png', '/content/drive/MyDrive/Colab Notebooks/fetal training set/800_HC.png', '/content/drive/MyDrive/Colab Notebooks/fetal training set/796_HC.png', '/content/drive/MyDrive/Colab Notebooks/fetal training set/795_HC.png', '/content/drive/MyDrive/Colab Notebooks/fetal training set/797_HC.png', '/content/drive/MyDrive/Colab Notebooks/fetal training set/799_HC.png', '/content/drive/MyDrive/Colab Notebooks/fetal training set/798_HC.png', '/content/drive/MyDrive/Colab Notebooks/fetal training set/801_HC.png', '/content/drive/MyDrive/Colab Notebooks/fetal training set/802_HC.png', '/content/drive/MyDrive/Colab Notebooks/fetal training set/805_HC.png', '/content/drive/MyDrive/Colab Notebooks/fetal training set/803_HC.png', '/content/drive/MyDrive/Colab Notebooks/fetal training set/804_HC.png']\n",
            "['/content/drive/MyDrive/Colab Notebooks/fetal training set/000_HC.png', '/content/drive/MyDrive/Colab Notebooks/fetal training set/001_HC.png', '/content/drive/MyDrive/Colab Notebooks/fetal training set/002_HC.png', '/content/drive/MyDrive/Colab Notebooks/fetal training set/003_HC.png', '/content/drive/MyDrive/Colab Notebooks/fetal training set/004_HC.png', '/content/drive/MyDrive/Colab Notebooks/fetal training set/005_HC.png', '/content/drive/MyDrive/Colab Notebooks/fetal training set/006_HC.png', '/content/drive/MyDrive/Colab Notebooks/fetal training set/007_HC.png', '/content/drive/MyDrive/Colab Notebooks/fetal training set/008_HC.png', '/content/drive/MyDrive/Colab Notebooks/fetal training set/009_HC.png', '/content/drive/MyDrive/Colab Notebooks/fetal training set/010_HC.png', '/content/drive/MyDrive/Colab Notebooks/fetal training set/011_HC.png', '/content/drive/MyDrive/Colab Notebooks/fetal training set/012_HC.png', '/content/drive/MyDrive/Colab Notebooks/fetal training set/013_HC.png', '/content/drive/MyDrive/Colab Notebooks/fetal training set/014_HC.png', '/content/drive/MyDrive/Colab Notebooks/fetal training set/015_HC.png', '/content/drive/MyDrive/Colab Notebooks/fetal training set/016_HC.png', '/content/drive/MyDrive/Colab Notebooks/fetal training set/017_HC.png', '/content/drive/MyDrive/Colab Notebooks/fetal training set/018_HC.png', '/content/drive/MyDrive/Colab Notebooks/fetal training set/019_HC.png', '/content/drive/MyDrive/Colab Notebooks/fetal training set/020_HC.png', '/content/drive/MyDrive/Colab Notebooks/fetal training set/021_HC.png', '/content/drive/MyDrive/Colab Notebooks/fetal training set/022_HC.png', '/content/drive/MyDrive/Colab Notebooks/fetal training set/023_HC.png', '/content/drive/MyDrive/Colab Notebooks/fetal training set/024_HC.png', '/content/drive/MyDrive/Colab Notebooks/fetal training set/025_HC.png', '/content/drive/MyDrive/Colab Notebooks/fetal training set/026_HC.png', '/content/drive/MyDrive/Colab Notebooks/fetal training set/027_HC.png', '/content/drive/MyDrive/Colab Notebooks/fetal training set/028_HC.png', '/content/drive/MyDrive/Colab Notebooks/fetal training set/029_HC.png', '/content/drive/MyDrive/Colab Notebooks/fetal training set/030_HC.png', '/content/drive/MyDrive/Colab Notebooks/fetal training set/031_HC.png', '/content/drive/MyDrive/Colab Notebooks/fetal training set/032_HC.png', '/content/drive/MyDrive/Colab Notebooks/fetal training set/033_HC.png', '/content/drive/MyDrive/Colab Notebooks/fetal training set/034_HC.png', '/content/drive/MyDrive/Colab Notebooks/fetal training set/035_HC.png', '/content/drive/MyDrive/Colab Notebooks/fetal training set/036_HC.png', '/content/drive/MyDrive/Colab Notebooks/fetal training set/037_HC.png', '/content/drive/MyDrive/Colab Notebooks/fetal training set/038_HC.png', '/content/drive/MyDrive/Colab Notebooks/fetal training set/039_HC.png', '/content/drive/MyDrive/Colab Notebooks/fetal training set/040_HC.png', '/content/drive/MyDrive/Colab Notebooks/fetal training set/041_HC.png', '/content/drive/MyDrive/Colab Notebooks/fetal training set/042_HC.png', '/content/drive/MyDrive/Colab Notebooks/fetal training set/043_HC.png', '/content/drive/MyDrive/Colab Notebooks/fetal training set/044_HC.png', '/content/drive/MyDrive/Colab Notebooks/fetal training set/045_HC.png', '/content/drive/MyDrive/Colab Notebooks/fetal training set/046_HC.png', '/content/drive/MyDrive/Colab Notebooks/fetal training set/047_HC.png', '/content/drive/MyDrive/Colab Notebooks/fetal training set/048_HC.png', '/content/drive/MyDrive/Colab Notebooks/fetal training set/049_HC.png', '/content/drive/MyDrive/Colab Notebooks/fetal training set/050_HC.png', '/content/drive/MyDrive/Colab Notebooks/fetal training set/051_HC.png', '/content/drive/MyDrive/Colab Notebooks/fetal training set/052_HC.png', '/content/drive/MyDrive/Colab Notebooks/fetal training set/053_HC.png', '/content/drive/MyDrive/Colab Notebooks/fetal training set/054_HC.png', '/content/drive/MyDrive/Colab Notebooks/fetal training set/055_HC.png', '/content/drive/MyDrive/Colab Notebooks/fetal training set/056_HC.png', '/content/drive/MyDrive/Colab Notebooks/fetal training set/057_HC.png', '/content/drive/MyDrive/Colab Notebooks/fetal training set/058_HC.png', '/content/drive/MyDrive/Colab Notebooks/fetal training set/059_HC.png', '/content/drive/MyDrive/Colab Notebooks/fetal training set/060_HC.png', '/content/drive/MyDrive/Colab Notebooks/fetal training set/061_HC.png', '/content/drive/MyDrive/Colab Notebooks/fetal training set/062_HC.png', '/content/drive/MyDrive/Colab Notebooks/fetal training set/063_HC.png', '/content/drive/MyDrive/Colab Notebooks/fetal training set/064_HC.png', '/content/drive/MyDrive/Colab Notebooks/fetal training set/065_HC.png', '/content/drive/MyDrive/Colab Notebooks/fetal training set/066_HC.png', '/content/drive/MyDrive/Colab Notebooks/fetal training set/067_HC.png', '/content/drive/MyDrive/Colab Notebooks/fetal training set/068_HC.png', '/content/drive/MyDrive/Colab Notebooks/fetal training set/069_HC.png', '/content/drive/MyDrive/Colab Notebooks/fetal training set/070_HC.png', '/content/drive/MyDrive/Colab Notebooks/fetal training set/071_HC.png', '/content/drive/MyDrive/Colab Notebooks/fetal training set/072_HC.png', '/content/drive/MyDrive/Colab Notebooks/fetal training set/073_HC.png', '/content/drive/MyDrive/Colab Notebooks/fetal training set/074_HC.png', '/content/drive/MyDrive/Colab Notebooks/fetal training set/075_HC.png', '/content/drive/MyDrive/Colab Notebooks/fetal training set/076_HC.png', '/content/drive/MyDrive/Colab Notebooks/fetal training set/077_HC.png', '/content/drive/MyDrive/Colab Notebooks/fetal training set/078_HC.png', '/content/drive/MyDrive/Colab Notebooks/fetal training set/079_HC.png', '/content/drive/MyDrive/Colab Notebooks/fetal training set/080_HC.png', '/content/drive/MyDrive/Colab Notebooks/fetal training set/081_HC.png', '/content/drive/MyDrive/Colab Notebooks/fetal training set/082_HC.png', '/content/drive/MyDrive/Colab Notebooks/fetal training set/083_HC.png', '/content/drive/MyDrive/Colab Notebooks/fetal training set/084_HC.png', '/content/drive/MyDrive/Colab Notebooks/fetal training set/085_HC.png', '/content/drive/MyDrive/Colab Notebooks/fetal training set/086_HC.png', '/content/drive/MyDrive/Colab Notebooks/fetal training set/087_HC.png', '/content/drive/MyDrive/Colab Notebooks/fetal training set/088_HC.png', '/content/drive/MyDrive/Colab Notebooks/fetal training set/089_HC.png', '/content/drive/MyDrive/Colab Notebooks/fetal training set/090_HC.png', '/content/drive/MyDrive/Colab Notebooks/fetal training set/091_HC.png', '/content/drive/MyDrive/Colab Notebooks/fetal training set/092_HC.png', '/content/drive/MyDrive/Colab Notebooks/fetal training set/093_HC.png', '/content/drive/MyDrive/Colab Notebooks/fetal training set/094_HC.png', '/content/drive/MyDrive/Colab Notebooks/fetal training set/095_HC.png', '/content/drive/MyDrive/Colab Notebooks/fetal training set/096_HC.png', '/content/drive/MyDrive/Colab Notebooks/fetal training set/097_HC.png', '/content/drive/MyDrive/Colab Notebooks/fetal training set/098_HC.png', '/content/drive/MyDrive/Colab Notebooks/fetal training set/099_HC.png', '/content/drive/MyDrive/Colab Notebooks/fetal training set/100_HC.png', '/content/drive/MyDrive/Colab Notebooks/fetal training set/101_HC.png', '/content/drive/MyDrive/Colab Notebooks/fetal training set/102_HC.png', '/content/drive/MyDrive/Colab Notebooks/fetal training set/103_HC.png', '/content/drive/MyDrive/Colab Notebooks/fetal training set/104_HC.png', '/content/drive/MyDrive/Colab Notebooks/fetal training set/105_HC.png', '/content/drive/MyDrive/Colab Notebooks/fetal training set/106_HC.png', '/content/drive/MyDrive/Colab Notebooks/fetal training set/107_HC.png', '/content/drive/MyDrive/Colab Notebooks/fetal training set/108_HC.png', '/content/drive/MyDrive/Colab Notebooks/fetal training set/109_HC.png', '/content/drive/MyDrive/Colab Notebooks/fetal training set/110_HC.png', '/content/drive/MyDrive/Colab Notebooks/fetal training set/111_HC.png', '/content/drive/MyDrive/Colab Notebooks/fetal training set/112_HC.png', '/content/drive/MyDrive/Colab Notebooks/fetal training set/113_HC.png', '/content/drive/MyDrive/Colab Notebooks/fetal training set/114_HC.png', '/content/drive/MyDrive/Colab Notebooks/fetal training set/115_HC.png', '/content/drive/MyDrive/Colab Notebooks/fetal training set/116_HC.png', '/content/drive/MyDrive/Colab Notebooks/fetal training set/117_HC.png', '/content/drive/MyDrive/Colab Notebooks/fetal training set/118_HC.png', '/content/drive/MyDrive/Colab Notebooks/fetal training set/119_HC.png', '/content/drive/MyDrive/Colab Notebooks/fetal training set/120_HC.png', '/content/drive/MyDrive/Colab Notebooks/fetal training set/121_HC.png', '/content/drive/MyDrive/Colab Notebooks/fetal training set/122_HC.png', '/content/drive/MyDrive/Colab Notebooks/fetal training set/123_HC.png', '/content/drive/MyDrive/Colab Notebooks/fetal training set/124_HC.png', '/content/drive/MyDrive/Colab Notebooks/fetal training set/125_HC.png', '/content/drive/MyDrive/Colab Notebooks/fetal training set/126_HC.png', '/content/drive/MyDrive/Colab Notebooks/fetal training set/127_HC.png', '/content/drive/MyDrive/Colab Notebooks/fetal training set/128_HC.png', '/content/drive/MyDrive/Colab Notebooks/fetal training set/129_HC.png', '/content/drive/MyDrive/Colab Notebooks/fetal training set/130_HC.png', '/content/drive/MyDrive/Colab Notebooks/fetal training set/131_HC.png', '/content/drive/MyDrive/Colab Notebooks/fetal training set/132_HC.png', '/content/drive/MyDrive/Colab Notebooks/fetal training set/133_HC.png', '/content/drive/MyDrive/Colab Notebooks/fetal training set/134_HC.png', '/content/drive/MyDrive/Colab Notebooks/fetal training set/135_HC.png', '/content/drive/MyDrive/Colab Notebooks/fetal training set/136_HC.png', '/content/drive/MyDrive/Colab Notebooks/fetal training set/137_HC.png', '/content/drive/MyDrive/Colab Notebooks/fetal training set/138_HC.png', '/content/drive/MyDrive/Colab Notebooks/fetal training set/139_HC.png', '/content/drive/MyDrive/Colab Notebooks/fetal training set/140_HC.png', '/content/drive/MyDrive/Colab Notebooks/fetal training set/141_HC.png', '/content/drive/MyDrive/Colab Notebooks/fetal training set/142_HC.png', '/content/drive/MyDrive/Colab Notebooks/fetal training set/143_HC.png', '/content/drive/MyDrive/Colab Notebooks/fetal training set/144_HC.png', '/content/drive/MyDrive/Colab Notebooks/fetal training set/145_HC.png', '/content/drive/MyDrive/Colab Notebooks/fetal training set/146_HC.png', '/content/drive/MyDrive/Colab Notebooks/fetal training set/147_HC.png', '/content/drive/MyDrive/Colab Notebooks/fetal training set/148_HC.png', '/content/drive/MyDrive/Colab Notebooks/fetal training set/149_HC.png', '/content/drive/MyDrive/Colab Notebooks/fetal training set/150_HC.png', '/content/drive/MyDrive/Colab Notebooks/fetal training set/151_HC.png', '/content/drive/MyDrive/Colab Notebooks/fetal training set/152_HC.png', '/content/drive/MyDrive/Colab Notebooks/fetal training set/153_HC.png', '/content/drive/MyDrive/Colab Notebooks/fetal training set/154_HC.png', '/content/drive/MyDrive/Colab Notebooks/fetal training set/155_HC.png', '/content/drive/MyDrive/Colab Notebooks/fetal training set/156_HC.png', '/content/drive/MyDrive/Colab Notebooks/fetal training set/157_HC.png', '/content/drive/MyDrive/Colab Notebooks/fetal training set/158_HC.png', '/content/drive/MyDrive/Colab Notebooks/fetal training set/159_HC.png', '/content/drive/MyDrive/Colab Notebooks/fetal training set/160_HC.png', '/content/drive/MyDrive/Colab Notebooks/fetal training set/161_HC.png', '/content/drive/MyDrive/Colab Notebooks/fetal training set/162_HC.png', '/content/drive/MyDrive/Colab Notebooks/fetal training set/163_HC.png', '/content/drive/MyDrive/Colab Notebooks/fetal training set/164_HC.png', '/content/drive/MyDrive/Colab Notebooks/fetal training set/165_HC.png', '/content/drive/MyDrive/Colab Notebooks/fetal training set/166_HC.png', '/content/drive/MyDrive/Colab Notebooks/fetal training set/167_HC.png', '/content/drive/MyDrive/Colab Notebooks/fetal training set/168_HC.png', '/content/drive/MyDrive/Colab Notebooks/fetal training set/169_HC.png', '/content/drive/MyDrive/Colab Notebooks/fetal training set/170_HC.png', '/content/drive/MyDrive/Colab Notebooks/fetal training set/171_HC.png', '/content/drive/MyDrive/Colab Notebooks/fetal training set/172_HC.png', '/content/drive/MyDrive/Colab Notebooks/fetal training set/173_HC.png', '/content/drive/MyDrive/Colab Notebooks/fetal training set/174_HC.png', '/content/drive/MyDrive/Colab Notebooks/fetal training set/175_HC.png', '/content/drive/MyDrive/Colab Notebooks/fetal training set/176_HC.png', '/content/drive/MyDrive/Colab Notebooks/fetal training set/177_HC.png', '/content/drive/MyDrive/Colab Notebooks/fetal training set/178_HC.png', '/content/drive/MyDrive/Colab Notebooks/fetal training set/179_HC.png', '/content/drive/MyDrive/Colab Notebooks/fetal training set/180_HC.png', '/content/drive/MyDrive/Colab Notebooks/fetal training set/181_HC.png', '/content/drive/MyDrive/Colab Notebooks/fetal training set/182_HC.png', '/content/drive/MyDrive/Colab Notebooks/fetal training set/183_HC.png', '/content/drive/MyDrive/Colab Notebooks/fetal training set/184_HC.png', '/content/drive/MyDrive/Colab Notebooks/fetal training set/185_HC.png', '/content/drive/MyDrive/Colab Notebooks/fetal training set/186_HC.png', '/content/drive/MyDrive/Colab Notebooks/fetal training set/187_HC.png', '/content/drive/MyDrive/Colab Notebooks/fetal training set/188_HC.png', '/content/drive/MyDrive/Colab Notebooks/fetal training set/189_HC.png', '/content/drive/MyDrive/Colab Notebooks/fetal training set/190_HC.png', '/content/drive/MyDrive/Colab Notebooks/fetal training set/191_HC.png', '/content/drive/MyDrive/Colab Notebooks/fetal training set/192_HC.png', '/content/drive/MyDrive/Colab Notebooks/fetal training set/193_HC.png', '/content/drive/MyDrive/Colab Notebooks/fetal training set/194_HC.png', '/content/drive/MyDrive/Colab Notebooks/fetal training set/195_HC.png', '/content/drive/MyDrive/Colab Notebooks/fetal training set/196_HC.png', '/content/drive/MyDrive/Colab Notebooks/fetal training set/197_HC.png', '/content/drive/MyDrive/Colab Notebooks/fetal training set/198_HC.png', '/content/drive/MyDrive/Colab Notebooks/fetal training set/199_HC.png', '/content/drive/MyDrive/Colab Notebooks/fetal training set/200_HC.png', '/content/drive/MyDrive/Colab Notebooks/fetal training set/201_HC.png', '/content/drive/MyDrive/Colab Notebooks/fetal training set/202_HC.png', '/content/drive/MyDrive/Colab Notebooks/fetal training set/203_HC.png', '/content/drive/MyDrive/Colab Notebooks/fetal training set/204_HC.png', '/content/drive/MyDrive/Colab Notebooks/fetal training set/205_HC.png', '/content/drive/MyDrive/Colab Notebooks/fetal training set/206_HC.png', '/content/drive/MyDrive/Colab Notebooks/fetal training set/207_HC.png', '/content/drive/MyDrive/Colab Notebooks/fetal training set/208_HC.png', '/content/drive/MyDrive/Colab Notebooks/fetal training set/209_HC.png', '/content/drive/MyDrive/Colab Notebooks/fetal training set/210_HC.png', '/content/drive/MyDrive/Colab Notebooks/fetal training set/211_HC.png', '/content/drive/MyDrive/Colab Notebooks/fetal training set/212_HC.png', '/content/drive/MyDrive/Colab Notebooks/fetal training set/213_HC.png', '/content/drive/MyDrive/Colab Notebooks/fetal training set/214_HC.png', '/content/drive/MyDrive/Colab Notebooks/fetal training set/215_HC.png', '/content/drive/MyDrive/Colab Notebooks/fetal training set/216_HC.png', '/content/drive/MyDrive/Colab Notebooks/fetal training set/217_HC.png', '/content/drive/MyDrive/Colab Notebooks/fetal training set/218_HC.png', '/content/drive/MyDrive/Colab Notebooks/fetal training set/219_HC.png', '/content/drive/MyDrive/Colab Notebooks/fetal training set/220_HC.png', '/content/drive/MyDrive/Colab Notebooks/fetal training set/221_HC.png', '/content/drive/MyDrive/Colab Notebooks/fetal training set/222_HC.png', '/content/drive/MyDrive/Colab Notebooks/fetal training set/223_HC.png', '/content/drive/MyDrive/Colab Notebooks/fetal training set/224_HC.png', '/content/drive/MyDrive/Colab Notebooks/fetal training set/225_HC.png', '/content/drive/MyDrive/Colab Notebooks/fetal training set/226_HC.png', '/content/drive/MyDrive/Colab Notebooks/fetal training set/227_HC.png', '/content/drive/MyDrive/Colab Notebooks/fetal training set/228_HC.png', '/content/drive/MyDrive/Colab Notebooks/fetal training set/229_HC.png', '/content/drive/MyDrive/Colab Notebooks/fetal training set/230_HC.png', '/content/drive/MyDrive/Colab Notebooks/fetal training set/231_HC.png', '/content/drive/MyDrive/Colab Notebooks/fetal training set/232_HC.png', '/content/drive/MyDrive/Colab Notebooks/fetal training set/233_HC.png', '/content/drive/MyDrive/Colab Notebooks/fetal training set/234_HC.png', '/content/drive/MyDrive/Colab Notebooks/fetal training set/235_HC.png', '/content/drive/MyDrive/Colab Notebooks/fetal training set/236_HC.png', '/content/drive/MyDrive/Colab Notebooks/fetal training set/237_HC.png', '/content/drive/MyDrive/Colab Notebooks/fetal training set/238_HC.png', '/content/drive/MyDrive/Colab Notebooks/fetal training set/239_HC.png', '/content/drive/MyDrive/Colab Notebooks/fetal training set/240_HC.png', '/content/drive/MyDrive/Colab Notebooks/fetal training set/241_HC.png', '/content/drive/MyDrive/Colab Notebooks/fetal training set/242_HC.png', '/content/drive/MyDrive/Colab Notebooks/fetal training set/243_HC.png', '/content/drive/MyDrive/Colab Notebooks/fetal training set/244_HC.png', '/content/drive/MyDrive/Colab Notebooks/fetal training set/245_HC.png', '/content/drive/MyDrive/Colab Notebooks/fetal training set/246_HC.png', '/content/drive/MyDrive/Colab Notebooks/fetal training set/247_HC.png', '/content/drive/MyDrive/Colab Notebooks/fetal training set/248_HC.png', '/content/drive/MyDrive/Colab Notebooks/fetal training set/249_HC.png', '/content/drive/MyDrive/Colab Notebooks/fetal training set/250_HC.png', '/content/drive/MyDrive/Colab Notebooks/fetal training set/251_HC.png', '/content/drive/MyDrive/Colab Notebooks/fetal training set/252_HC.png', '/content/drive/MyDrive/Colab Notebooks/fetal training set/253_HC.png', '/content/drive/MyDrive/Colab Notebooks/fetal training set/254_HC.png', '/content/drive/MyDrive/Colab Notebooks/fetal training set/255_HC.png', '/content/drive/MyDrive/Colab Notebooks/fetal training set/256_HC.png', '/content/drive/MyDrive/Colab Notebooks/fetal training set/257_HC.png', '/content/drive/MyDrive/Colab Notebooks/fetal training set/258_HC.png', '/content/drive/MyDrive/Colab Notebooks/fetal training set/259_HC.png', '/content/drive/MyDrive/Colab Notebooks/fetal training set/260_HC.png', '/content/drive/MyDrive/Colab Notebooks/fetal training set/261_HC.png', '/content/drive/MyDrive/Colab Notebooks/fetal training set/262_HC.png', '/content/drive/MyDrive/Colab Notebooks/fetal training set/263_HC.png', '/content/drive/MyDrive/Colab Notebooks/fetal training set/264_HC.png', '/content/drive/MyDrive/Colab Notebooks/fetal training set/265_HC.png', '/content/drive/MyDrive/Colab Notebooks/fetal training set/266_HC.png', '/content/drive/MyDrive/Colab Notebooks/fetal training set/267_HC.png', '/content/drive/MyDrive/Colab Notebooks/fetal training set/268_HC.png', '/content/drive/MyDrive/Colab Notebooks/fetal training set/269_HC.png', '/content/drive/MyDrive/Colab Notebooks/fetal training set/270_HC.png', '/content/drive/MyDrive/Colab Notebooks/fetal training set/271_HC.png', '/content/drive/MyDrive/Colab Notebooks/fetal training set/272_HC.png', '/content/drive/MyDrive/Colab Notebooks/fetal training set/273_HC.png', '/content/drive/MyDrive/Colab Notebooks/fetal training set/274_HC.png', '/content/drive/MyDrive/Colab Notebooks/fetal training set/275_HC.png', '/content/drive/MyDrive/Colab Notebooks/fetal training set/276_HC.png', '/content/drive/MyDrive/Colab Notebooks/fetal training set/277_HC.png', '/content/drive/MyDrive/Colab Notebooks/fetal training set/278_HC.png', '/content/drive/MyDrive/Colab Notebooks/fetal training set/279_HC.png', '/content/drive/MyDrive/Colab Notebooks/fetal training set/280_HC.png', '/content/drive/MyDrive/Colab Notebooks/fetal training set/281_HC.png', '/content/drive/MyDrive/Colab Notebooks/fetal training set/282_HC.png', '/content/drive/MyDrive/Colab Notebooks/fetal training set/283_HC.png', '/content/drive/MyDrive/Colab Notebooks/fetal training set/284_HC.png', '/content/drive/MyDrive/Colab Notebooks/fetal training set/285_HC.png', '/content/drive/MyDrive/Colab Notebooks/fetal training set/286_HC.png', '/content/drive/MyDrive/Colab Notebooks/fetal training set/287_HC.png', '/content/drive/MyDrive/Colab Notebooks/fetal training set/288_HC.png', '/content/drive/MyDrive/Colab Notebooks/fetal training set/289_HC.png', '/content/drive/MyDrive/Colab Notebooks/fetal training set/290_HC.png', '/content/drive/MyDrive/Colab Notebooks/fetal training set/291_HC.png', '/content/drive/MyDrive/Colab Notebooks/fetal training set/292_HC.png', '/content/drive/MyDrive/Colab Notebooks/fetal training set/293_HC.png', '/content/drive/MyDrive/Colab Notebooks/fetal training set/294_HC.png', '/content/drive/MyDrive/Colab Notebooks/fetal training set/295_HC.png', '/content/drive/MyDrive/Colab Notebooks/fetal training set/296_HC.png', '/content/drive/MyDrive/Colab Notebooks/fetal training set/297_HC.png', '/content/drive/MyDrive/Colab Notebooks/fetal training set/298_HC.png', '/content/drive/MyDrive/Colab Notebooks/fetal training set/299_HC.png', '/content/drive/MyDrive/Colab Notebooks/fetal training set/300_HC.png', '/content/drive/MyDrive/Colab Notebooks/fetal training set/301_HC.png', '/content/drive/MyDrive/Colab Notebooks/fetal training set/302_HC.png', '/content/drive/MyDrive/Colab Notebooks/fetal training set/303_HC.png', '/content/drive/MyDrive/Colab Notebooks/fetal training set/304_HC.png', '/content/drive/MyDrive/Colab Notebooks/fetal training set/305_HC.png', '/content/drive/MyDrive/Colab Notebooks/fetal training set/306_HC.png', '/content/drive/MyDrive/Colab Notebooks/fetal training set/307_HC.png', '/content/drive/MyDrive/Colab Notebooks/fetal training set/308_HC.png', '/content/drive/MyDrive/Colab Notebooks/fetal training set/309_HC.png', '/content/drive/MyDrive/Colab Notebooks/fetal training set/310_HC.png', '/content/drive/MyDrive/Colab Notebooks/fetal training set/311_HC.png', '/content/drive/MyDrive/Colab Notebooks/fetal training set/312_HC.png', '/content/drive/MyDrive/Colab Notebooks/fetal training set/313_HC.png', '/content/drive/MyDrive/Colab Notebooks/fetal training set/314_HC.png', '/content/drive/MyDrive/Colab Notebooks/fetal training set/315_HC.png', '/content/drive/MyDrive/Colab Notebooks/fetal training set/316_HC.png', '/content/drive/MyDrive/Colab Notebooks/fetal training set/317_HC.png', '/content/drive/MyDrive/Colab Notebooks/fetal training set/318_HC.png', '/content/drive/MyDrive/Colab Notebooks/fetal training set/319_HC.png', '/content/drive/MyDrive/Colab Notebooks/fetal training set/320_HC.png', '/content/drive/MyDrive/Colab Notebooks/fetal training set/321_HC.png', '/content/drive/MyDrive/Colab Notebooks/fetal training set/322_HC.png', '/content/drive/MyDrive/Colab Notebooks/fetal training set/323_HC.png', '/content/drive/MyDrive/Colab Notebooks/fetal training set/324_HC.png', '/content/drive/MyDrive/Colab Notebooks/fetal training set/325_HC.png', '/content/drive/MyDrive/Colab Notebooks/fetal training set/326_HC.png', '/content/drive/MyDrive/Colab Notebooks/fetal training set/327_HC.png', '/content/drive/MyDrive/Colab Notebooks/fetal training set/328_HC.png', '/content/drive/MyDrive/Colab Notebooks/fetal training set/329_HC.png', '/content/drive/MyDrive/Colab Notebooks/fetal training set/330_HC.png', '/content/drive/MyDrive/Colab Notebooks/fetal training set/331_HC.png', '/content/drive/MyDrive/Colab Notebooks/fetal training set/332_HC.png', '/content/drive/MyDrive/Colab Notebooks/fetal training set/333_HC.png', '/content/drive/MyDrive/Colab Notebooks/fetal training set/334_HC.png', '/content/drive/MyDrive/Colab Notebooks/fetal training set/335_HC.png', '/content/drive/MyDrive/Colab Notebooks/fetal training set/336_HC.png', '/content/drive/MyDrive/Colab Notebooks/fetal training set/337_HC.png', '/content/drive/MyDrive/Colab Notebooks/fetal training set/338_HC.png', '/content/drive/MyDrive/Colab Notebooks/fetal training set/339_HC.png', '/content/drive/MyDrive/Colab Notebooks/fetal training set/340_HC.png', '/content/drive/MyDrive/Colab Notebooks/fetal training set/341_HC.png', '/content/drive/MyDrive/Colab Notebooks/fetal training set/342_HC.png', '/content/drive/MyDrive/Colab Notebooks/fetal training set/343_HC.png', '/content/drive/MyDrive/Colab Notebooks/fetal training set/344_HC.png', '/content/drive/MyDrive/Colab Notebooks/fetal training set/345_HC.png', '/content/drive/MyDrive/Colab Notebooks/fetal training set/346_HC.png', '/content/drive/MyDrive/Colab Notebooks/fetal training set/347_HC.png', '/content/drive/MyDrive/Colab Notebooks/fetal training set/348_HC.png', '/content/drive/MyDrive/Colab Notebooks/fetal training set/349_HC.png', '/content/drive/MyDrive/Colab Notebooks/fetal training set/350_HC.png', '/content/drive/MyDrive/Colab Notebooks/fetal training set/351_HC.png', '/content/drive/MyDrive/Colab Notebooks/fetal training set/352_HC.png', '/content/drive/MyDrive/Colab Notebooks/fetal training set/353_HC.png', '/content/drive/MyDrive/Colab Notebooks/fetal training set/354_HC.png', '/content/drive/MyDrive/Colab Notebooks/fetal training set/355_HC.png', '/content/drive/MyDrive/Colab Notebooks/fetal training set/356_HC.png', '/content/drive/MyDrive/Colab Notebooks/fetal training set/357_HC.png', '/content/drive/MyDrive/Colab Notebooks/fetal training set/358_HC.png', '/content/drive/MyDrive/Colab Notebooks/fetal training set/359_HC.png', '/content/drive/MyDrive/Colab Notebooks/fetal training set/360_HC.png', '/content/drive/MyDrive/Colab Notebooks/fetal training set/361_HC.png', '/content/drive/MyDrive/Colab Notebooks/fetal training set/362_HC.png', '/content/drive/MyDrive/Colab Notebooks/fetal training set/363_HC.png', '/content/drive/MyDrive/Colab Notebooks/fetal training set/364_HC.png', '/content/drive/MyDrive/Colab Notebooks/fetal training set/365_HC.png', '/content/drive/MyDrive/Colab Notebooks/fetal training set/366_HC.png', '/content/drive/MyDrive/Colab Notebooks/fetal training set/367_HC.png', '/content/drive/MyDrive/Colab Notebooks/fetal training set/368_HC.png', '/content/drive/MyDrive/Colab Notebooks/fetal training set/369_HC.png', '/content/drive/MyDrive/Colab Notebooks/fetal training set/370_HC.png', '/content/drive/MyDrive/Colab Notebooks/fetal training set/371_HC.png', '/content/drive/MyDrive/Colab Notebooks/fetal training set/372_HC.png', '/content/drive/MyDrive/Colab Notebooks/fetal training set/373_HC.png', '/content/drive/MyDrive/Colab Notebooks/fetal training set/374_HC.png', '/content/drive/MyDrive/Colab Notebooks/fetal training set/375_HC.png', '/content/drive/MyDrive/Colab Notebooks/fetal training set/376_HC.png', '/content/drive/MyDrive/Colab Notebooks/fetal training set/377_HC.png', '/content/drive/MyDrive/Colab Notebooks/fetal training set/378_HC.png', '/content/drive/MyDrive/Colab Notebooks/fetal training set/379_HC.png', '/content/drive/MyDrive/Colab Notebooks/fetal training set/380_HC.png', '/content/drive/MyDrive/Colab Notebooks/fetal training set/381_HC.png', '/content/drive/MyDrive/Colab Notebooks/fetal training set/382_HC.png', '/content/drive/MyDrive/Colab Notebooks/fetal training set/383_HC.png', '/content/drive/MyDrive/Colab Notebooks/fetal training set/384_HC.png', '/content/drive/MyDrive/Colab Notebooks/fetal training set/385_HC.png', '/content/drive/MyDrive/Colab Notebooks/fetal training set/386_HC.png', '/content/drive/MyDrive/Colab Notebooks/fetal training set/387_HC.png', '/content/drive/MyDrive/Colab Notebooks/fetal training set/388_HC.png', '/content/drive/MyDrive/Colab Notebooks/fetal training set/389_HC.png', '/content/drive/MyDrive/Colab Notebooks/fetal training set/390_HC.png', '/content/drive/MyDrive/Colab Notebooks/fetal training set/391_HC.png', '/content/drive/MyDrive/Colab Notebooks/fetal training set/392_HC.png', '/content/drive/MyDrive/Colab Notebooks/fetal training set/393_HC.png', '/content/drive/MyDrive/Colab Notebooks/fetal training set/394_HC.png', '/content/drive/MyDrive/Colab Notebooks/fetal training set/395_HC.png', '/content/drive/MyDrive/Colab Notebooks/fetal training set/396_HC.png', '/content/drive/MyDrive/Colab Notebooks/fetal training set/397_HC.png', '/content/drive/MyDrive/Colab Notebooks/fetal training set/398_HC.png', '/content/drive/MyDrive/Colab Notebooks/fetal training set/399_HC.png', '/content/drive/MyDrive/Colab Notebooks/fetal training set/400_HC.png', '/content/drive/MyDrive/Colab Notebooks/fetal training set/401_HC.png', '/content/drive/MyDrive/Colab Notebooks/fetal training set/402_HC.png', '/content/drive/MyDrive/Colab Notebooks/fetal training set/403_HC.png', '/content/drive/MyDrive/Colab Notebooks/fetal training set/404_HC.png', '/content/drive/MyDrive/Colab Notebooks/fetal training set/405_HC.png', '/content/drive/MyDrive/Colab Notebooks/fetal training set/406_HC.png', '/content/drive/MyDrive/Colab Notebooks/fetal training set/407_HC.png', '/content/drive/MyDrive/Colab Notebooks/fetal training set/408_HC.png', '/content/drive/MyDrive/Colab Notebooks/fetal training set/409_HC.png', '/content/drive/MyDrive/Colab Notebooks/fetal training set/410_HC.png', '/content/drive/MyDrive/Colab Notebooks/fetal training set/411_HC.png', '/content/drive/MyDrive/Colab Notebooks/fetal training set/412_HC.png', '/content/drive/MyDrive/Colab Notebooks/fetal training set/413_HC.png', '/content/drive/MyDrive/Colab Notebooks/fetal training set/414_HC.png', '/content/drive/MyDrive/Colab Notebooks/fetal training set/415_HC.png', '/content/drive/MyDrive/Colab Notebooks/fetal training set/416_HC.png', '/content/drive/MyDrive/Colab Notebooks/fetal training set/417_HC.png', '/content/drive/MyDrive/Colab Notebooks/fetal training set/418_HC.png', '/content/drive/MyDrive/Colab Notebooks/fetal training set/419_HC.png', '/content/drive/MyDrive/Colab Notebooks/fetal training set/420_HC.png', '/content/drive/MyDrive/Colab Notebooks/fetal training set/421_HC.png', '/content/drive/MyDrive/Colab Notebooks/fetal training set/422_HC.png', '/content/drive/MyDrive/Colab Notebooks/fetal training set/423_HC.png', '/content/drive/MyDrive/Colab Notebooks/fetal training set/424_HC.png', '/content/drive/MyDrive/Colab Notebooks/fetal training set/425_HC.png', '/content/drive/MyDrive/Colab Notebooks/fetal training set/426_HC.png', '/content/drive/MyDrive/Colab Notebooks/fetal training set/427_HC.png', '/content/drive/MyDrive/Colab Notebooks/fetal training set/428_HC.png', '/content/drive/MyDrive/Colab Notebooks/fetal training set/429_HC.png', '/content/drive/MyDrive/Colab Notebooks/fetal training set/430_HC.png', '/content/drive/MyDrive/Colab Notebooks/fetal training set/431_HC.png', '/content/drive/MyDrive/Colab Notebooks/fetal training set/432_HC.png', '/content/drive/MyDrive/Colab Notebooks/fetal training set/433_HC.png', '/content/drive/MyDrive/Colab Notebooks/fetal training set/434_HC.png', '/content/drive/MyDrive/Colab Notebooks/fetal training set/435_HC.png', '/content/drive/MyDrive/Colab Notebooks/fetal training set/436_HC.png', '/content/drive/MyDrive/Colab Notebooks/fetal training set/437_HC.png', '/content/drive/MyDrive/Colab Notebooks/fetal training set/438_HC.png', '/content/drive/MyDrive/Colab Notebooks/fetal training set/439_HC.png', '/content/drive/MyDrive/Colab Notebooks/fetal training set/440_HC.png', '/content/drive/MyDrive/Colab Notebooks/fetal training set/441_HC.png', '/content/drive/MyDrive/Colab Notebooks/fetal training set/442_HC.png', '/content/drive/MyDrive/Colab Notebooks/fetal training set/443_HC.png', '/content/drive/MyDrive/Colab Notebooks/fetal training set/444_HC.png', '/content/drive/MyDrive/Colab Notebooks/fetal training set/445_HC.png', '/content/drive/MyDrive/Colab Notebooks/fetal training set/446_HC.png', '/content/drive/MyDrive/Colab Notebooks/fetal training set/447_HC.png', '/content/drive/MyDrive/Colab Notebooks/fetal training set/448_HC.png', '/content/drive/MyDrive/Colab Notebooks/fetal training set/449_HC.png', '/content/drive/MyDrive/Colab Notebooks/fetal training set/450_HC.png', '/content/drive/MyDrive/Colab Notebooks/fetal training set/451_HC.png', '/content/drive/MyDrive/Colab Notebooks/fetal training set/452_HC.png', '/content/drive/MyDrive/Colab Notebooks/fetal training set/453_HC.png', '/content/drive/MyDrive/Colab Notebooks/fetal training set/454_HC.png', '/content/drive/MyDrive/Colab Notebooks/fetal training set/455_HC.png', '/content/drive/MyDrive/Colab Notebooks/fetal training set/456_HC.png', '/content/drive/MyDrive/Colab Notebooks/fetal training set/457_HC.png', '/content/drive/MyDrive/Colab Notebooks/fetal training set/458_HC.png', '/content/drive/MyDrive/Colab Notebooks/fetal training set/459_HC.png', '/content/drive/MyDrive/Colab Notebooks/fetal training set/460_HC.png', '/content/drive/MyDrive/Colab Notebooks/fetal training set/461_HC.png', '/content/drive/MyDrive/Colab Notebooks/fetal training set/462_HC.png', '/content/drive/MyDrive/Colab Notebooks/fetal training set/463_HC.png', '/content/drive/MyDrive/Colab Notebooks/fetal training set/464_HC.png', '/content/drive/MyDrive/Colab Notebooks/fetal training set/465_HC.png', '/content/drive/MyDrive/Colab Notebooks/fetal training set/466_HC.png', '/content/drive/MyDrive/Colab Notebooks/fetal training set/467_HC.png', '/content/drive/MyDrive/Colab Notebooks/fetal training set/468_HC.png', '/content/drive/MyDrive/Colab Notebooks/fetal training set/469_HC.png', '/content/drive/MyDrive/Colab Notebooks/fetal training set/470_HC.png', '/content/drive/MyDrive/Colab Notebooks/fetal training set/471_HC.png', '/content/drive/MyDrive/Colab Notebooks/fetal training set/472_HC.png', '/content/drive/MyDrive/Colab Notebooks/fetal training set/473_HC.png', '/content/drive/MyDrive/Colab Notebooks/fetal training set/474_HC.png', '/content/drive/MyDrive/Colab Notebooks/fetal training set/475_HC.png', '/content/drive/MyDrive/Colab Notebooks/fetal training set/476_HC.png', '/content/drive/MyDrive/Colab Notebooks/fetal training set/477_HC.png', '/content/drive/MyDrive/Colab Notebooks/fetal training set/478_HC.png', '/content/drive/MyDrive/Colab Notebooks/fetal training set/479_HC.png', '/content/drive/MyDrive/Colab Notebooks/fetal training set/480_HC.png', '/content/drive/MyDrive/Colab Notebooks/fetal training set/481_HC.png', '/content/drive/MyDrive/Colab Notebooks/fetal training set/482_HC.png', '/content/drive/MyDrive/Colab Notebooks/fetal training set/483_HC.png', '/content/drive/MyDrive/Colab Notebooks/fetal training set/484_HC.png', '/content/drive/MyDrive/Colab Notebooks/fetal training set/485_HC.png', '/content/drive/MyDrive/Colab Notebooks/fetal training set/486_HC.png', '/content/drive/MyDrive/Colab Notebooks/fetal training set/487_HC.png', '/content/drive/MyDrive/Colab Notebooks/fetal training set/488_HC.png', '/content/drive/MyDrive/Colab Notebooks/fetal training set/489_HC.png', '/content/drive/MyDrive/Colab Notebooks/fetal training set/490_HC.png', '/content/drive/MyDrive/Colab Notebooks/fetal training set/491_HC.png', '/content/drive/MyDrive/Colab Notebooks/fetal training set/492_HC.png', '/content/drive/MyDrive/Colab Notebooks/fetal training set/493_HC.png', '/content/drive/MyDrive/Colab Notebooks/fetal training set/494_HC.png', '/content/drive/MyDrive/Colab Notebooks/fetal training set/495_HC.png', '/content/drive/MyDrive/Colab Notebooks/fetal training set/496_HC.png', '/content/drive/MyDrive/Colab Notebooks/fetal training set/497_HC.png', '/content/drive/MyDrive/Colab Notebooks/fetal training set/498_HC.png', '/content/drive/MyDrive/Colab Notebooks/fetal training set/499_HC.png', '/content/drive/MyDrive/Colab Notebooks/fetal training set/500_HC.png', '/content/drive/MyDrive/Colab Notebooks/fetal training set/501_HC.png', '/content/drive/MyDrive/Colab Notebooks/fetal training set/502_HC.png', '/content/drive/MyDrive/Colab Notebooks/fetal training set/503_HC.png', '/content/drive/MyDrive/Colab Notebooks/fetal training set/504_HC.png', '/content/drive/MyDrive/Colab Notebooks/fetal training set/505_HC.png', '/content/drive/MyDrive/Colab Notebooks/fetal training set/506_HC.png', '/content/drive/MyDrive/Colab Notebooks/fetal training set/507_HC.png', '/content/drive/MyDrive/Colab Notebooks/fetal training set/508_HC.png', '/content/drive/MyDrive/Colab Notebooks/fetal training set/509_HC.png', '/content/drive/MyDrive/Colab Notebooks/fetal training set/510_HC.png', '/content/drive/MyDrive/Colab Notebooks/fetal training set/511_HC.png', '/content/drive/MyDrive/Colab Notebooks/fetal training set/512_HC.png', '/content/drive/MyDrive/Colab Notebooks/fetal training set/513_HC.png', '/content/drive/MyDrive/Colab Notebooks/fetal training set/514_HC.png', '/content/drive/MyDrive/Colab Notebooks/fetal training set/515_HC.png', '/content/drive/MyDrive/Colab Notebooks/fetal training set/516_HC.png', '/content/drive/MyDrive/Colab Notebooks/fetal training set/517_HC.png', '/content/drive/MyDrive/Colab Notebooks/fetal training set/518_HC.png', '/content/drive/MyDrive/Colab Notebooks/fetal training set/519_HC.png', '/content/drive/MyDrive/Colab Notebooks/fetal training set/520_HC.png', '/content/drive/MyDrive/Colab Notebooks/fetal training set/521_HC.png', '/content/drive/MyDrive/Colab Notebooks/fetal training set/522_HC.png', '/content/drive/MyDrive/Colab Notebooks/fetal training set/523_HC.png', '/content/drive/MyDrive/Colab Notebooks/fetal training set/524_HC.png', '/content/drive/MyDrive/Colab Notebooks/fetal training set/525_HC.png', '/content/drive/MyDrive/Colab Notebooks/fetal training set/526_HC.png', '/content/drive/MyDrive/Colab Notebooks/fetal training set/527_HC.png', '/content/drive/MyDrive/Colab Notebooks/fetal training set/528_HC.png', '/content/drive/MyDrive/Colab Notebooks/fetal training set/529_HC.png', '/content/drive/MyDrive/Colab Notebooks/fetal training set/530_HC.png', '/content/drive/MyDrive/Colab Notebooks/fetal training set/531_HC.png', '/content/drive/MyDrive/Colab Notebooks/fetal training set/532_HC.png', '/content/drive/MyDrive/Colab Notebooks/fetal training set/533_HC.png', '/content/drive/MyDrive/Colab Notebooks/fetal training set/534_HC.png', '/content/drive/MyDrive/Colab Notebooks/fetal training set/535_HC.png', '/content/drive/MyDrive/Colab Notebooks/fetal training set/536_HC.png', '/content/drive/MyDrive/Colab Notebooks/fetal training set/537_HC.png', '/content/drive/MyDrive/Colab Notebooks/fetal training set/538_HC.png', '/content/drive/MyDrive/Colab Notebooks/fetal training set/539_HC.png', '/content/drive/MyDrive/Colab Notebooks/fetal training set/540_HC.png', '/content/drive/MyDrive/Colab Notebooks/fetal training set/541_HC.png', '/content/drive/MyDrive/Colab Notebooks/fetal training set/542_HC.png', '/content/drive/MyDrive/Colab Notebooks/fetal training set/543_HC.png', '/content/drive/MyDrive/Colab Notebooks/fetal training set/544_HC.png', '/content/drive/MyDrive/Colab Notebooks/fetal training set/545_HC.png', '/content/drive/MyDrive/Colab Notebooks/fetal training set/546_HC.png', '/content/drive/MyDrive/Colab Notebooks/fetal training set/547_HC.png', '/content/drive/MyDrive/Colab Notebooks/fetal training set/548_HC.png', '/content/drive/MyDrive/Colab Notebooks/fetal training set/549_HC.png', '/content/drive/MyDrive/Colab Notebooks/fetal training set/550_HC.png', '/content/drive/MyDrive/Colab Notebooks/fetal training set/551_HC.png', '/content/drive/MyDrive/Colab Notebooks/fetal training set/552_HC.png', '/content/drive/MyDrive/Colab Notebooks/fetal training set/553_HC.png', '/content/drive/MyDrive/Colab Notebooks/fetal training set/554_HC.png', '/content/drive/MyDrive/Colab Notebooks/fetal training set/555_HC.png', '/content/drive/MyDrive/Colab Notebooks/fetal training set/556_HC.png', '/content/drive/MyDrive/Colab Notebooks/fetal training set/557_HC.png', '/content/drive/MyDrive/Colab Notebooks/fetal training set/558_HC.png', '/content/drive/MyDrive/Colab Notebooks/fetal training set/559_HC.png', '/content/drive/MyDrive/Colab Notebooks/fetal training set/560_HC.png', '/content/drive/MyDrive/Colab Notebooks/fetal training set/561_HC.png', '/content/drive/MyDrive/Colab Notebooks/fetal training set/562_HC.png', '/content/drive/MyDrive/Colab Notebooks/fetal training set/563_HC.png', '/content/drive/MyDrive/Colab Notebooks/fetal training set/564_HC.png', '/content/drive/MyDrive/Colab Notebooks/fetal training set/565_HC.png', '/content/drive/MyDrive/Colab Notebooks/fetal training set/566_HC.png', '/content/drive/MyDrive/Colab Notebooks/fetal training set/567_HC.png', '/content/drive/MyDrive/Colab Notebooks/fetal training set/568_HC.png', '/content/drive/MyDrive/Colab Notebooks/fetal training set/569_HC.png', '/content/drive/MyDrive/Colab Notebooks/fetal training set/570_HC.png', '/content/drive/MyDrive/Colab Notebooks/fetal training set/571_HC.png', '/content/drive/MyDrive/Colab Notebooks/fetal training set/572_HC.png', '/content/drive/MyDrive/Colab Notebooks/fetal training set/573_HC.png', '/content/drive/MyDrive/Colab Notebooks/fetal training set/574_HC.png', '/content/drive/MyDrive/Colab Notebooks/fetal training set/575_HC.png', '/content/drive/MyDrive/Colab Notebooks/fetal training set/576_HC.png', '/content/drive/MyDrive/Colab Notebooks/fetal training set/577_HC.png', '/content/drive/MyDrive/Colab Notebooks/fetal training set/578_HC.png', '/content/drive/MyDrive/Colab Notebooks/fetal training set/579_HC.png', '/content/drive/MyDrive/Colab Notebooks/fetal training set/580_HC.png', '/content/drive/MyDrive/Colab Notebooks/fetal training set/581_HC.png', '/content/drive/MyDrive/Colab Notebooks/fetal training set/582_HC.png', '/content/drive/MyDrive/Colab Notebooks/fetal training set/583_HC.png', '/content/drive/MyDrive/Colab Notebooks/fetal training set/584_HC.png', '/content/drive/MyDrive/Colab Notebooks/fetal training set/585_HC.png', '/content/drive/MyDrive/Colab Notebooks/fetal training set/586_HC.png', '/content/drive/MyDrive/Colab Notebooks/fetal training set/587_HC.png', '/content/drive/MyDrive/Colab Notebooks/fetal training set/588_HC.png', '/content/drive/MyDrive/Colab Notebooks/fetal training set/589_HC.png', '/content/drive/MyDrive/Colab Notebooks/fetal training set/590_HC.png', '/content/drive/MyDrive/Colab Notebooks/fetal training set/591_HC.png', '/content/drive/MyDrive/Colab Notebooks/fetal training set/592_HC.png', '/content/drive/MyDrive/Colab Notebooks/fetal training set/593_HC.png', '/content/drive/MyDrive/Colab Notebooks/fetal training set/594_HC.png', '/content/drive/MyDrive/Colab Notebooks/fetal training set/595_HC.png', '/content/drive/MyDrive/Colab Notebooks/fetal training set/596_HC.png', '/content/drive/MyDrive/Colab Notebooks/fetal training set/597_HC.png', '/content/drive/MyDrive/Colab Notebooks/fetal training set/598_HC.png', '/content/drive/MyDrive/Colab Notebooks/fetal training set/599_HC.png', '/content/drive/MyDrive/Colab Notebooks/fetal training set/600_HC.png', '/content/drive/MyDrive/Colab Notebooks/fetal training set/601_HC.png', '/content/drive/MyDrive/Colab Notebooks/fetal training set/602_HC.png', '/content/drive/MyDrive/Colab Notebooks/fetal training set/603_HC.png', '/content/drive/MyDrive/Colab Notebooks/fetal training set/604_HC.png', '/content/drive/MyDrive/Colab Notebooks/fetal training set/605_HC.png', '/content/drive/MyDrive/Colab Notebooks/fetal training set/606_HC.png', '/content/drive/MyDrive/Colab Notebooks/fetal training set/607_HC.png', '/content/drive/MyDrive/Colab Notebooks/fetal training set/608_HC.png', '/content/drive/MyDrive/Colab Notebooks/fetal training set/609_HC.png', '/content/drive/MyDrive/Colab Notebooks/fetal training set/610_HC.png', '/content/drive/MyDrive/Colab Notebooks/fetal training set/611_HC.png', '/content/drive/MyDrive/Colab Notebooks/fetal training set/612_HC.png', '/content/drive/MyDrive/Colab Notebooks/fetal training set/613_HC.png', '/content/drive/MyDrive/Colab Notebooks/fetal training set/614_HC.png', '/content/drive/MyDrive/Colab Notebooks/fetal training set/615_HC.png', '/content/drive/MyDrive/Colab Notebooks/fetal training set/616_HC.png', '/content/drive/MyDrive/Colab Notebooks/fetal training set/617_HC.png', '/content/drive/MyDrive/Colab Notebooks/fetal training set/618_HC.png', '/content/drive/MyDrive/Colab Notebooks/fetal training set/619_HC.png', '/content/drive/MyDrive/Colab Notebooks/fetal training set/620_HC.png', '/content/drive/MyDrive/Colab Notebooks/fetal training set/621_HC.png', '/content/drive/MyDrive/Colab Notebooks/fetal training set/622_HC.png', '/content/drive/MyDrive/Colab Notebooks/fetal training set/623_HC.png', '/content/drive/MyDrive/Colab Notebooks/fetal training set/624_HC.png', '/content/drive/MyDrive/Colab Notebooks/fetal training set/625_HC.png', '/content/drive/MyDrive/Colab Notebooks/fetal training set/626_HC.png', '/content/drive/MyDrive/Colab Notebooks/fetal training set/627_HC.png', '/content/drive/MyDrive/Colab Notebooks/fetal training set/628_HC.png', '/content/drive/MyDrive/Colab Notebooks/fetal training set/629_HC.png', '/content/drive/MyDrive/Colab Notebooks/fetal training set/630_HC.png', '/content/drive/MyDrive/Colab Notebooks/fetal training set/631_HC.png', '/content/drive/MyDrive/Colab Notebooks/fetal training set/632_HC.png', '/content/drive/MyDrive/Colab Notebooks/fetal training set/633_HC.png', '/content/drive/MyDrive/Colab Notebooks/fetal training set/634_HC.png', '/content/drive/MyDrive/Colab Notebooks/fetal training set/635_HC.png', '/content/drive/MyDrive/Colab Notebooks/fetal training set/636_HC.png', '/content/drive/MyDrive/Colab Notebooks/fetal training set/637_HC.png', '/content/drive/MyDrive/Colab Notebooks/fetal training set/638_HC.png', '/content/drive/MyDrive/Colab Notebooks/fetal training set/639_HC.png', '/content/drive/MyDrive/Colab Notebooks/fetal training set/640_HC.png', '/content/drive/MyDrive/Colab Notebooks/fetal training set/641_HC.png', '/content/drive/MyDrive/Colab Notebooks/fetal training set/642_HC.png', '/content/drive/MyDrive/Colab Notebooks/fetal training set/643_HC.png', '/content/drive/MyDrive/Colab Notebooks/fetal training set/644_HC.png', '/content/drive/MyDrive/Colab Notebooks/fetal training set/645_HC.png', '/content/drive/MyDrive/Colab Notebooks/fetal training set/646_HC.png', '/content/drive/MyDrive/Colab Notebooks/fetal training set/647_HC.png', '/content/drive/MyDrive/Colab Notebooks/fetal training set/648_HC.png', '/content/drive/MyDrive/Colab Notebooks/fetal training set/649_HC.png', '/content/drive/MyDrive/Colab Notebooks/fetal training set/650_HC.png', '/content/drive/MyDrive/Colab Notebooks/fetal training set/651_HC.png', '/content/drive/MyDrive/Colab Notebooks/fetal training set/652_HC.png', '/content/drive/MyDrive/Colab Notebooks/fetal training set/653_HC.png', '/content/drive/MyDrive/Colab Notebooks/fetal training set/654_HC.png', '/content/drive/MyDrive/Colab Notebooks/fetal training set/655_HC.png', '/content/drive/MyDrive/Colab Notebooks/fetal training set/656_HC.png', '/content/drive/MyDrive/Colab Notebooks/fetal training set/657_HC.png', '/content/drive/MyDrive/Colab Notebooks/fetal training set/658_HC.png', '/content/drive/MyDrive/Colab Notebooks/fetal training set/659_HC.png', '/content/drive/MyDrive/Colab Notebooks/fetal training set/660_HC.png', '/content/drive/MyDrive/Colab Notebooks/fetal training set/661_HC.png', '/content/drive/MyDrive/Colab Notebooks/fetal training set/662_HC.png', '/content/drive/MyDrive/Colab Notebooks/fetal training set/663_HC.png', '/content/drive/MyDrive/Colab Notebooks/fetal training set/664_HC.png', '/content/drive/MyDrive/Colab Notebooks/fetal training set/665_HC.png', '/content/drive/MyDrive/Colab Notebooks/fetal training set/666_HC.png', '/content/drive/MyDrive/Colab Notebooks/fetal training set/667_HC.png', '/content/drive/MyDrive/Colab Notebooks/fetal training set/668_HC.png', '/content/drive/MyDrive/Colab Notebooks/fetal training set/669_HC.png', '/content/drive/MyDrive/Colab Notebooks/fetal training set/670_HC.png', '/content/drive/MyDrive/Colab Notebooks/fetal training set/671_HC.png', '/content/drive/MyDrive/Colab Notebooks/fetal training set/672_HC.png', '/content/drive/MyDrive/Colab Notebooks/fetal training set/673_HC.png', '/content/drive/MyDrive/Colab Notebooks/fetal training set/674_HC.png', '/content/drive/MyDrive/Colab Notebooks/fetal training set/675_HC.png', '/content/drive/MyDrive/Colab Notebooks/fetal training set/676_HC.png', '/content/drive/MyDrive/Colab Notebooks/fetal training set/677_HC.png', '/content/drive/MyDrive/Colab Notebooks/fetal training set/678_HC.png', '/content/drive/MyDrive/Colab Notebooks/fetal training set/679_HC.png', '/content/drive/MyDrive/Colab Notebooks/fetal training set/680_HC.png', '/content/drive/MyDrive/Colab Notebooks/fetal training set/681_HC.png', '/content/drive/MyDrive/Colab Notebooks/fetal training set/682_HC.png', '/content/drive/MyDrive/Colab Notebooks/fetal training set/683_HC.png', '/content/drive/MyDrive/Colab Notebooks/fetal training set/684_HC.png', '/content/drive/MyDrive/Colab Notebooks/fetal training set/685_HC.png', '/content/drive/MyDrive/Colab Notebooks/fetal training set/686_HC.png', '/content/drive/MyDrive/Colab Notebooks/fetal training set/687_HC.png', '/content/drive/MyDrive/Colab Notebooks/fetal training set/688_HC.png', '/content/drive/MyDrive/Colab Notebooks/fetal training set/689_HC.png', '/content/drive/MyDrive/Colab Notebooks/fetal training set/690_HC.png', '/content/drive/MyDrive/Colab Notebooks/fetal training set/691_HC.png', '/content/drive/MyDrive/Colab Notebooks/fetal training set/692_HC.png', '/content/drive/MyDrive/Colab Notebooks/fetal training set/693_HC.png', '/content/drive/MyDrive/Colab Notebooks/fetal training set/694_HC.png', '/content/drive/MyDrive/Colab Notebooks/fetal training set/695_HC.png', '/content/drive/MyDrive/Colab Notebooks/fetal training set/696_HC.png', '/content/drive/MyDrive/Colab Notebooks/fetal training set/697_HC.png', '/content/drive/MyDrive/Colab Notebooks/fetal training set/698_HC.png', '/content/drive/MyDrive/Colab Notebooks/fetal training set/699_HC.png', '/content/drive/MyDrive/Colab Notebooks/fetal training set/700_HC.png', '/content/drive/MyDrive/Colab Notebooks/fetal training set/701_HC.png', '/content/drive/MyDrive/Colab Notebooks/fetal training set/702_HC.png', '/content/drive/MyDrive/Colab Notebooks/fetal training set/703_HC.png', '/content/drive/MyDrive/Colab Notebooks/fetal training set/704_HC.png', '/content/drive/MyDrive/Colab Notebooks/fetal training set/705_HC.png', '/content/drive/MyDrive/Colab Notebooks/fetal training set/706_HC.png', '/content/drive/MyDrive/Colab Notebooks/fetal training set/707_HC.png', '/content/drive/MyDrive/Colab Notebooks/fetal training set/708_HC.png', '/content/drive/MyDrive/Colab Notebooks/fetal training set/709_HC.png', '/content/drive/MyDrive/Colab Notebooks/fetal training set/710_HC.png', '/content/drive/MyDrive/Colab Notebooks/fetal training set/711_HC.png', '/content/drive/MyDrive/Colab Notebooks/fetal training set/712_HC.png', '/content/drive/MyDrive/Colab Notebooks/fetal training set/713_HC.png', '/content/drive/MyDrive/Colab Notebooks/fetal training set/714_HC.png', '/content/drive/MyDrive/Colab Notebooks/fetal training set/715_HC.png', '/content/drive/MyDrive/Colab Notebooks/fetal training set/716_HC.png', '/content/drive/MyDrive/Colab Notebooks/fetal training set/717_HC.png', '/content/drive/MyDrive/Colab Notebooks/fetal training set/718_HC.png', '/content/drive/MyDrive/Colab Notebooks/fetal training set/719_HC.png', '/content/drive/MyDrive/Colab Notebooks/fetal training set/720_HC.png', '/content/drive/MyDrive/Colab Notebooks/fetal training set/721_HC.png', '/content/drive/MyDrive/Colab Notebooks/fetal training set/722_HC.png', '/content/drive/MyDrive/Colab Notebooks/fetal training set/723_HC.png', '/content/drive/MyDrive/Colab Notebooks/fetal training set/724_HC.png', '/content/drive/MyDrive/Colab Notebooks/fetal training set/725_HC.png', '/content/drive/MyDrive/Colab Notebooks/fetal training set/726_HC.png', '/content/drive/MyDrive/Colab Notebooks/fetal training set/727_HC.png', '/content/drive/MyDrive/Colab Notebooks/fetal training set/728_HC.png', '/content/drive/MyDrive/Colab Notebooks/fetal training set/729_HC.png', '/content/drive/MyDrive/Colab Notebooks/fetal training set/730_HC.png', '/content/drive/MyDrive/Colab Notebooks/fetal training set/731_HC.png', '/content/drive/MyDrive/Colab Notebooks/fetal training set/732_HC.png', '/content/drive/MyDrive/Colab Notebooks/fetal training set/733_HC.png', '/content/drive/MyDrive/Colab Notebooks/fetal training set/734_HC.png', '/content/drive/MyDrive/Colab Notebooks/fetal training set/735_HC.png', '/content/drive/MyDrive/Colab Notebooks/fetal training set/736_HC.png', '/content/drive/MyDrive/Colab Notebooks/fetal training set/737_HC.png', '/content/drive/MyDrive/Colab Notebooks/fetal training set/738_HC.png', '/content/drive/MyDrive/Colab Notebooks/fetal training set/739_HC.png', '/content/drive/MyDrive/Colab Notebooks/fetal training set/740_HC.png', '/content/drive/MyDrive/Colab Notebooks/fetal training set/741_HC.png', '/content/drive/MyDrive/Colab Notebooks/fetal training set/742_HC.png', '/content/drive/MyDrive/Colab Notebooks/fetal training set/743_HC.png', '/content/drive/MyDrive/Colab Notebooks/fetal training set/744_HC.png', '/content/drive/MyDrive/Colab Notebooks/fetal training set/745_HC.png', '/content/drive/MyDrive/Colab Notebooks/fetal training set/746_HC.png', '/content/drive/MyDrive/Colab Notebooks/fetal training set/747_HC.png', '/content/drive/MyDrive/Colab Notebooks/fetal training set/748_HC.png', '/content/drive/MyDrive/Colab Notebooks/fetal training set/749_HC.png', '/content/drive/MyDrive/Colab Notebooks/fetal training set/750_HC.png', '/content/drive/MyDrive/Colab Notebooks/fetal training set/751_HC.png', '/content/drive/MyDrive/Colab Notebooks/fetal training set/752_HC.png', '/content/drive/MyDrive/Colab Notebooks/fetal training set/753_HC.png', '/content/drive/MyDrive/Colab Notebooks/fetal training set/754_HC.png', '/content/drive/MyDrive/Colab Notebooks/fetal training set/755_HC.png', '/content/drive/MyDrive/Colab Notebooks/fetal training set/756_HC.png', '/content/drive/MyDrive/Colab Notebooks/fetal training set/757_HC.png', '/content/drive/MyDrive/Colab Notebooks/fetal training set/758_HC.png', '/content/drive/MyDrive/Colab Notebooks/fetal training set/759_HC.png', '/content/drive/MyDrive/Colab Notebooks/fetal training set/760_HC.png', '/content/drive/MyDrive/Colab Notebooks/fetal training set/761_HC.png', '/content/drive/MyDrive/Colab Notebooks/fetal training set/762_HC.png', '/content/drive/MyDrive/Colab Notebooks/fetal training set/763_HC.png', '/content/drive/MyDrive/Colab Notebooks/fetal training set/764_HC.png', '/content/drive/MyDrive/Colab Notebooks/fetal training set/765_HC.png', '/content/drive/MyDrive/Colab Notebooks/fetal training set/766_HC.png', '/content/drive/MyDrive/Colab Notebooks/fetal training set/767_HC.png', '/content/drive/MyDrive/Colab Notebooks/fetal training set/768_HC.png', '/content/drive/MyDrive/Colab Notebooks/fetal training set/769_HC.png', '/content/drive/MyDrive/Colab Notebooks/fetal training set/770_HC.png', '/content/drive/MyDrive/Colab Notebooks/fetal training set/771_HC.png', '/content/drive/MyDrive/Colab Notebooks/fetal training set/772_HC.png', '/content/drive/MyDrive/Colab Notebooks/fetal training set/773_HC.png', '/content/drive/MyDrive/Colab Notebooks/fetal training set/774_HC.png', '/content/drive/MyDrive/Colab Notebooks/fetal training set/775_HC.png', '/content/drive/MyDrive/Colab Notebooks/fetal training set/776_HC.png', '/content/drive/MyDrive/Colab Notebooks/fetal training set/777_HC.png', '/content/drive/MyDrive/Colab Notebooks/fetal training set/778_HC.png', '/content/drive/MyDrive/Colab Notebooks/fetal training set/779_HC.png', '/content/drive/MyDrive/Colab Notebooks/fetal training set/780_HC.png', '/content/drive/MyDrive/Colab Notebooks/fetal training set/781_HC.png', '/content/drive/MyDrive/Colab Notebooks/fetal training set/782_HC.png', '/content/drive/MyDrive/Colab Notebooks/fetal training set/783_HC.png', '/content/drive/MyDrive/Colab Notebooks/fetal training set/784_HC.png', '/content/drive/MyDrive/Colab Notebooks/fetal training set/785_HC.png', '/content/drive/MyDrive/Colab Notebooks/fetal training set/786_HC.png', '/content/drive/MyDrive/Colab Notebooks/fetal training set/787_HC.png', '/content/drive/MyDrive/Colab Notebooks/fetal training set/788_HC.png', '/content/drive/MyDrive/Colab Notebooks/fetal training set/789_HC.png', '/content/drive/MyDrive/Colab Notebooks/fetal training set/790_HC.png', '/content/drive/MyDrive/Colab Notebooks/fetal training set/791_HC.png', '/content/drive/MyDrive/Colab Notebooks/fetal training set/792_HC.png', '/content/drive/MyDrive/Colab Notebooks/fetal training set/793_HC.png', '/content/drive/MyDrive/Colab Notebooks/fetal training set/794_HC.png', '/content/drive/MyDrive/Colab Notebooks/fetal training set/795_HC.png', '/content/drive/MyDrive/Colab Notebooks/fetal training set/796_HC.png', '/content/drive/MyDrive/Colab Notebooks/fetal training set/797_HC.png', '/content/drive/MyDrive/Colab Notebooks/fetal training set/798_HC.png', '/content/drive/MyDrive/Colab Notebooks/fetal training set/799_HC.png', '/content/drive/MyDrive/Colab Notebooks/fetal training set/800_HC.png', '/content/drive/MyDrive/Colab Notebooks/fetal training set/801_HC.png', '/content/drive/MyDrive/Colab Notebooks/fetal training set/802_HC.png', '/content/drive/MyDrive/Colab Notebooks/fetal training set/803_HC.png', '/content/drive/MyDrive/Colab Notebooks/fetal training set/804_HC.png', '/content/drive/MyDrive/Colab Notebooks/fetal training set/805_HC.png']\n",
            "806\n",
            "(806, 256, 256, 3)\n"
          ]
        }
      ]
    },
    {
      "cell_type": "code",
      "execution_count": null,
      "metadata": {
        "id": "Z8QRj3u5YPfl",
        "colab": {
          "base_uri": "https://localhost:8080/"
        },
        "outputId": "fe16141c-5179-4a43-b655-1849968de5ad"
      },
      "outputs": [
        {
          "output_type": "stream",
          "name": "stdout",
          "text": [
            "(999, 256, 256, 1)\n"
          ]
        }
      ],
      "source": [
        "mask_names=glob.glob(\"/content/drive/MyDrive/Colab Notebooks/fetal head annotation/*.png\")\n",
        "mask_names.sort()\n",
        "mask_names_subset=mask_names[0:num_img]\n",
        "masks=[cv2.imread(mask,0) for mask in mask_names_subset]\n",
        "masks=[cv2.resize(mask,(256,256)) for mask in masks]\n",
        "mask_dataset=np.array(masks)\n",
        "mask_dataset=np.expand_dims(mask_dataset, axis=3)\n",
        "print(mask_dataset.shape)"
      ]
    },
    {
      "cell_type": "code",
      "execution_count": null,
      "metadata": {
        "id": "YK426DSMYWm4"
      },
      "outputs": [],
      "source": [
        "image_dataset=image_dataset/255\n",
        "mask_dataset=mask_dataset/255\n",
        "\n",
        "print(\"Image data shape is: \", image_dataset.shape)\n",
        "print(\"Mask data shape is: \", mask_dataset.shape)\n",
        "print(\"Max pixel value in image is: \", image_dataset.max())\n",
        "print(\"Labels in the mask are : \", np.unique(mask_dataset))\n",
        "\n",
        "from sklearn.model_selection import train_test_split\n",
        "X_train,X_test,y_train,y_test=train_test_split(image_dataset,mask_dataset, test_size=.2, random_state=42)"
      ]
    },
    {
      "cell_type": "code",
      "execution_count": null,
      "metadata": {
        "id": "pE68WeGAYpHd"
      },
      "outputs": [],
      "source": [
        "#building U net\n",
        "from keras.models import Model\n",
        "from keras.layers.convolutional import  Conv2D, MaxPooling2D,UpSampling2D,Conv2DTranspose\n",
        "from tensorflow.keras.optimizers import Adam,RMSprop\n",
        "from keras.layers import Activation, MaxPooling2D, Concatenate,Input, BatchNormalization,Dropout,Lambda\n",
        "\n",
        "\n",
        "def conv_block(input, num_filters):\n",
        "    x=Conv2D(num_filters,3,padding=\"same\")(input)\n",
        "    x=BatchNormalization()(x)\n",
        "    x=Activation(\"relu\")(x)\n",
        "\n",
        "\n",
        "    x=Conv2D(num_filters,3,padding=\"same\")(x)\n",
        "    x=BatchNormalization()(x)\n",
        "    x=Activation(\"relu\")(x)\n",
        "    return x\n",
        "\n",
        "\n",
        "\n",
        "def encoder_block(input, num_filters):\n",
        "    x=conv_block(input,num_filters)\n",
        "    p=MaxPooling2D((2,2))(x)\n",
        "\n",
        "    return x,p\n",
        "\n",
        "\n",
        "\n",
        "\n",
        "def decoder_block(input,skip_feature, num_filters):\n",
        "    x=Conv2DTranspose(num_filters,(2,2),strides=2, padding=\"same\")(input)\n",
        "    x=Concatenate()([x,skip_feature])\n",
        "    x=conv_block(x,num_filters)\n",
        "    return x\n",
        "\n",
        "\n",
        "\n",
        "\n",
        "def build_unet(input_shape, n_classes):\n",
        "    inputs=Input(input_shape)\n",
        "\n",
        "    s1,p1=encoder_block(inputs,64)\n",
        "    s2,p2=encoder_block(p1,128)\n",
        "    s3,p3=encoder_block(p2,256)\n",
        "    s4,p4=encoder_block(p3,512)\n",
        "\n",
        "\n",
        "    b1=conv_block(p4,1024) # bridge\n",
        "\n",
        "\n",
        "    d1=decoder_block(b1,s4,512)\n",
        "    d2=decoder_block(d1,s3,256)\n",
        "    d3=decoder_block(d2, s2,128)\n",
        "    d4=decoder_block(d3,s1,64)\n",
        "\n",
        "    if n_classes==1:\n",
        "        activation=\"sigmoid\"\n",
        "\n",
        "    else:\n",
        "        activation=\"softmax\"\n",
        "\n",
        "\n",
        "\n",
        "    outputs=Conv2D(n_classes,1,padding=\"same\",activation=activation)(d4)\n",
        "\n",
        "\n",
        "    model=Model(inputs,outputs,name=\"U-Net\")\n",
        "\n",
        "    return model\n"
      ]
    },
    {
      "cell_type": "code",
      "execution_count": null,
      "metadata": {
        "id": "mZfDbLuhYv_J"
      },
      "outputs": [],
      "source": [
        "Img_height=image_dataset.shape[1]\n",
        "Img_width=image_dataset.shape[2]\n",
        "Img_channel=image_dataset.shape[3]\n",
        "input_shape=(Img_height,Img_width,Img_channel)\n",
        "\n",
        "model=build_unet(input_shape,n_classes=1)\n",
        "model.summary()\n"
      ]
    },
    {
      "cell_type": "markdown",
      "metadata": {
        "id": "w4USCdpx7E_r"
      },
      "source": [
        "# All loss func"
      ]
    },
    {
      "cell_type": "code",
      "execution_count": null,
      "metadata": {
        "id": "ypybmFrhI0lV"
      },
      "outputs": [],
      "source": [
        "from keras.losses import binary_crossentropy\n",
        "import keras.backend as K\n",
        "import tensorflow as tf\n",
        "\n",
        "epsilon = 1e-5\n",
        "smooth = 1\n",
        "\n",
        "#Dice Loss\n",
        "def dsc(y_true, y_pred):\n",
        "    smooth = 1.\n",
        "    y_true_f = K.flatten(y_true)\n",
        "    y_pred_f = K.flatten(y_pred)\n",
        "    intersection = K.sum(y_true_f * y_pred_f)\n",
        "    score = (2. * intersection + smooth) / (K.sum(y_true_f) + K.sum(y_pred_f) + smooth)\n",
        "    return score\n",
        "\n",
        "def dice_loss(y_true, y_pred):\n",
        "    loss = 1 - dsc(y_true, y_pred)\n",
        "    return loss\n",
        "\n",
        "#Binary Cross Entropy + Dice Loss\n",
        "def bce_dice_loss(y_true, y_pred):\n",
        "    loss = binary_crossentropy(y_true, y_pred) + dice_loss(y_true, y_pred)\n",
        "    return loss\n",
        "\n",
        "#Tversky Loss\n",
        "def tversky(y_true, y_pred):\n",
        "    y_true_pos = K.flatten(y_true)\n",
        "    y_pred_pos = K.flatten(y_pred)\n",
        "    true_pos = K.sum(y_true_pos * y_pred_pos)\n",
        "    false_neg = K.sum(y_true_pos * (1-y_pred_pos))\n",
        "    false_pos = K.sum((1-y_true_pos)*y_pred_pos)\n",
        "    alpha = 0.7\n",
        "    return (true_pos + smooth)/(true_pos + alpha*false_neg + (1-alpha)*false_pos + smooth)\n",
        "\n",
        "def tversky_loss(y_true, y_pred):\n",
        "    return 1 - tversky(y_true,y_pred)\n",
        "\n",
        "#Focal Tversky Loss\n",
        "def focal_tversky(y_true,y_pred):\n",
        "    pt_1 = tversky(y_true, y_pred)\n",
        "    gamma = 0.75\n",
        "    return K.pow((1-pt_1), gamma)\n",
        "\n",
        "\n",
        "#Combined\n",
        "def hybrid_loss(y_true, y_pred):\n",
        "    a = focal_tversky(y_true, y_pred)\n",
        "    b = bce_dice_loss(y_true, y_pred)\n",
        "    #result = tversky + _lambda_ * dice\n",
        "    result = a + b\n",
        "    return result\n",
        "    return hybrid_loss"
      ]
    },
    {
      "cell_type": "markdown",
      "metadata": {
        "id": "ns5trBUHdvWW"
      },
      "source": [
        "# Callback"
      ]
    },
    {
      "cell_type": "code",
      "execution_count": null,
      "metadata": {
        "colab": {
          "base_uri": "https://localhost:8080/"
        },
        "id": "FPCvx3t7dyR-",
        "outputId": "f60205f2-6b4b-4633-95c4-e41d788b07b2"
      },
      "outputs": [
        {
          "name": "stdout",
          "output_type": "stream",
          "text": [
            "Looking in indexes: https://pypi.org/simple, https://us-python.pkg.dev/colab-wheels/public/simple/\n",
            "Requirement already satisfied: pyyaml in /usr/local/lib/python3.8/dist-packages (6.0)\n",
            "Requirement already satisfied: h5py in /usr/local/lib/python3.8/dist-packages (3.1.0)\n",
            "Requirement already satisfied: numpy>=1.17.5 in /usr/local/lib/python3.8/dist-packages (from h5py) (1.21.6)\n"
          ]
        }
      ],
      "source": [
        "!pip install pyyaml h5py"
      ]
    },
    {
      "cell_type": "code",
      "execution_count": null,
      "metadata": {
        "colab": {
          "base_uri": "https://localhost:8080/"
        },
        "id": "xeathUgQehYJ",
        "outputId": "a29df097-85c0-4c62-91e6-f36f44cef62c"
      },
      "outputs": [
        {
          "name": "stdout",
          "output_type": "stream",
          "text": [
            "2.11.0\n"
          ]
        }
      ],
      "source": [
        "import os\n",
        "\n",
        "import tensorflow as tf\n",
        "from tensorflow import keras\n",
        "\n",
        "print(tf.version.VERSION)\n"
      ]
    },
    {
      "cell_type": "code",
      "execution_count": null,
      "metadata": {
        "id": "6lcl0dmYfNQb"
      },
      "outputs": [],
      "source": [
        "model_filepath=\"/content/drive/MyDrive/Colab Notebooks/Fetal/unet_improved.hdf5\"\n",
        "from tensorflow.keras.callbacks import ModelCheckpoint\n",
        "cp_callback = ModelCheckpoint(filepath=model_filepath,\n",
        "                                                 save_weights_only=True,\n",
        "                                                 verbose=1)\n"
      ]
    },
    {
      "cell_type": "markdown",
      "metadata": {
        "id": "2YbKj3eo7KiZ"
      },
      "source": [
        "# Model compile"
      ]
    },
    {
      "cell_type": "code",
      "execution_count": null,
      "metadata": {
        "id": "K8eDnkW1JF5O"
      },
      "outputs": [],
      "source": [
        "model.compile(optimizer=Adam(learning_rate = 2e-3), loss=hybrid_loss, metrics=[dsc])\n",
        "model.summary()"
      ]
    },
    {
      "cell_type": "markdown",
      "metadata": {
        "id": "RZGGeKOQ7RNn"
      },
      "source": [
        "## Data Augmentation"
      ]
    },
    {
      "cell_type": "code",
      "execution_count": null,
      "metadata": {
        "id": "CLdjvdMvZBDR"
      },
      "outputs": [],
      "source": [
        "data_gen_args = dict(\n",
        "    #featurewise_center=True,\n",
        "                     #featurewise_std_normalization=True,\n",
        "                     rotation_range=90,\n",
        "                     horizontal_flip=True,\n",
        "                     vertical_flip=True,\n",
        "                     #width_shift_range=0.1,\n",
        "                     #height_shift_range=0.1,\n",
        "                     #zoom_range=0.2,\n",
        "                     fill_mode=\"reflect\"\n",
        "                    )\n",
        "image_datagen = ImageDataGenerator(**data_gen_args)\n",
        "mask_datagen = ImageDataGenerator(**data_gen_args)\n",
        "\n",
        "data_gen_arg = dict(featurewise_center=True,\n",
        "                     #featurewise_std_normalization=True,\n",
        "                     rotation_range=90,\n",
        "                     horizontal_flip=True,\n",
        "                     vertical_flip=True,\n",
        "                     #width_shift_range=0.1,\n",
        "                     #height_shift_range=0.1,\n",
        "                     #zoom_range=0.2\n",
        "                    )\n",
        "test_image_datagen = ImageDataGenerator(**data_gen_arg)\n",
        "test_mask_datagen = ImageDataGenerator(**data_gen_arg)"
      ]
    },
    {
      "cell_type": "code",
      "execution_count": null,
      "metadata": {
        "id": "QzxmnnL8ZDaR"
      },
      "outputs": [],
      "source": [
        "batchsize=25\n",
        "# Provide the same seed and keyword arguments to the fit and flow methods\n",
        "seed = 1\n",
        "image_datagen.fit(X_train, augment=True, seed=seed)\n",
        "mask_datagen.fit(y_train, augment=True, seed=seed)\n",
        "image_generator = image_datagen.flow(\n",
        "    X_train,\n",
        "    batch_size=batchsize,\n",
        "    #class_mode=None,\n",
        "    seed=seed)\n",
        "mask_generator = mask_datagen.flow(\n",
        "    y_train,\n",
        "    #class_mode=None,\n",
        "    batch_size=batchsize,\n",
        "    seed=seed)\n",
        "\n",
        "image_val = test_image_datagen.flow(\n",
        "    X_test,\n",
        "    #class_mode=None,\n",
        "    seed=seed)\n",
        "mask_val = test_mask_datagen.flow(\n",
        "    y_test,\n",
        "    #class_mode=None,\n",
        "    seed=seed)\n"
      ]
    },
    {
      "cell_type": "code",
      "execution_count": null,
      "metadata": {
        "id": "CW4yAkLL8S_x"
      },
      "outputs": [],
      "source": [
        "#from keras.callbacks import EarlyStopping\n",
        "#from keras.callbacks import ModelCheckpoint\n",
        "#es = EarlyStopping(monitor='val_loss', mode='min', verbose=1, patience=200)\n",
        "#mc = ModelCheckpoint('best_model.h5', monitor='val_accuracy', mode='max', verbose=1, save_best_only=True)"
      ]
    },
    {
      "cell_type": "markdown",
      "metadata": {
        "id": "UgC9HOcx7X0a"
      },
      "source": [
        "# Model Fit"
      ]
    },
    {
      "cell_type": "code",
      "source": [
        "# combine generators into one which yields image and masks\n",
        "train_generator = zip(image_generator, mask_generator)\n",
        "val_generator= zip(X_test,y_test)\n",
        "\n",
        "history=model.fit(\n",
        "    train_generator,\n",
        "    validation_data=(X_test,y_test),\n",
        "    batch_size=4,\n",
        "    steps_per_epoch=30,\n",
        "    epochs=100,\n",
        "    #callbacks=[es, mc]\n",
        "    #callbacks=[cp_callback]\n",
        ")"
      ],
      "metadata": {
        "id": "XkShjJ72qwBB"
      },
      "execution_count": null,
      "outputs": []
    },
    {
      "cell_type": "code",
      "source": [
        "#Save the model for future use\n",
        "model.save('/content/drive/MyDrive/Colab Notebooks/saved_models/fetal.hdf5')\n",
        "\n",
        "#plot the training and validation accuracy and dsc at each epoch\n",
        "dsc = history.history['dsc']\n",
        "val_dsc = history.history['val_dsc']\n",
        "epochs = range(1, len(dsc) + 1)\n",
        "plt.plot(epochs, dsc, 'y', label='Training Dice Similarity Coefficient')\n",
        "plt.plot(epochs, val_dsc, 'r', label='Validation Dice Similarity Coefficient')\n",
        "plt.title('Training and validation Dice Similarity Coefficient')\n",
        "plt.xlabel('Epochs')\n",
        "plt.ylabel('Dice Similarity Coefficient')\n",
        "plt.legend()\n",
        "plt.show()"
      ],
      "metadata": {
        "id": "qGxImDJ3q6Cb"
      },
      "execution_count": null,
      "outputs": []
    },
    {
      "cell_type": "markdown",
      "metadata": {
        "id": "G428vK8l7hsF"
      },
      "source": [
        "# IoU"
      ]
    },
    {
      "cell_type": "code",
      "source": [
        "#IOU\n",
        "y_pred=model.predict(X_test)\n",
        "y_pred_thresholded = y_pred > 0.5\n",
        "from tensorflow.keras.metrics import MeanIoU\n",
        "\n",
        "n_classes = 2\n",
        "IOU_keras = MeanIoU(num_classes=n_classes)\n",
        "IOU_keras.update_state(y_pred_thresholded, y_test)\n",
        "print(\"Mean IoU =\", IOU_keras.result().numpy())"
      ],
      "metadata": {
        "id": "NR669BQTrGfJ"
      },
      "execution_count": null,
      "outputs": []
    },
    {
      "cell_type": "markdown",
      "source": [
        "# *Plotting predicted images*"
      ],
      "metadata": {
        "id": "pWgto_hErNB0"
      }
    },
    {
      "cell_type": "code",
      "source": [
        "import random\n",
        "threshold = 0.5\n",
        "test_img_number = random.randint(0, len(X_test))\n",
        "test_img = X_test[test_img_number]\n",
        "ground_truth=y_test[test_img_number]\n",
        "test_img_input=np.expand_dims(test_img, 0)\n",
        "print(test_img_input.shape)\n",
        "prediction = (model.predict(test_img_input)[0,:,:,0]> 0.14).astype(\"uint8\")\n",
        "print(prediction.shape)\n",
        "#plt.title('Testing Image')\n",
        "plt.imshow(np.squeeze(test_img),cmap='gray')\n",
        "plt.axis('off')"
      ],
      "metadata": {
        "id": "6QYSjadLr4H7"
      },
      "execution_count": null,
      "outputs": []
    },
    {
      "cell_type": "code",
      "source": [
        "plt.title('Prediction on test image')\n",
        "#plt.imshow(prediction, cmap='gray')\n",
        "plt.imshow(np.squeeze(prediction),cmap='gray')\n",
        "plt.axis('off')"
      ],
      "metadata": {
        "id": "JfjEYdgCr7TL"
      },
      "execution_count": null,
      "outputs": []
    },
    {
      "cell_type": "code",
      "source": [
        "plt.title('Annotated Mask')\n",
        "plt.imshow(np.squeeze(ground_truth),cmap='gray')\n",
        "plt.axis('off')"
      ],
      "metadata": {
        "id": "xtI1VuWlr-1M"
      },
      "execution_count": null,
      "outputs": []
    },
    {
      "cell_type": "markdown",
      "source": [
        "# Superimposition of images"
      ],
      "metadata": {
        "id": "YJD6tW_5sDjH"
      }
    },
    {
      "cell_type": "code",
      "source": [
        "import cv2\n",
        "from google.colab.patches import cv2_imshow\n",
        "# Reading the images that are present\n",
        "source1 = cv2.imread('/content/drive/MyDrive/Colab Notebooks/Fetal/head 3.png', cv2.IMREAD_COLOR)\n",
        "source2 = cv2.imread('/content/drive/MyDrive/Colab Notebooks/Fetal/pred3.png', cv2.IMREAD_COLOR)\n",
        "# blending the image by adding necessary weights\n",
        "a=cv2.resize(source1,(256,256))\n",
        "b=cv2.resize(source2,(256,256))\n",
        "# blending the image by adding necessary weights\n",
        "dest = cv2.addWeighted(a, 0.5, b, 0.5, 0.0)\n",
        "#dest = cv2.addWeighted(source1, 0.5, source2, 0.5, 0.0)\n",
        "# saving the output of the image\n",
        "#cv2.imwrite('img.png', dest)\n",
        "cv2_imshow(dest)\n",
        "# Wait for a key\n",
        "cv2.waitKey(0)\n",
        "# Distroy all the window open\n",
        "cv2.destroyAllWindows()\n",
        "plt.axis('off')"
      ],
      "metadata": {
        "id": "bjMJzER-sJTc"
      },
      "execution_count": null,
      "outputs": []
    },
    {
      "cell_type": "code",
      "source": [
        "cv2_imshow(a)"
      ],
      "metadata": {
        "id": "KuKHMrifsQ2e"
      },
      "execution_count": null,
      "outputs": []
    },
    {
      "cell_type": "code",
      "source": [
        "cv2_imshow(b)"
      ],
      "metadata": {
        "id": "rgChQZXysTUe"
      },
      "execution_count": null,
      "outputs": []
    },
    {
      "cell_type": "markdown",
      "source": [
        "# Original U Net"
      ],
      "metadata": {
        "id": "rrAcqVAatDjB"
      }
    },
    {
      "cell_type": "markdown",
      "source": [
        "Model compile"
      ],
      "metadata": {
        "id": "Cr6VJJ-8te2e"
      }
    },
    {
      "cell_type": "code",
      "source": [
        "IMG_HEIGHT = image_dataset.shape[1]\n",
        "IMG_WIDTH  = image_dataset.shape[2]\n",
        "IMG_CHANNELS = image_dataset.shape[3]\n",
        "\n",
        "input_shape = (IMG_HEIGHT, IMG_WIDTH, IMG_CHANNELS)\n",
        "\n",
        "model = build_unet(input_shape, n_classes=1)\n",
        "model.compile(optimizer=Adam(learning_rate = 1e-3), loss=binary_crossentropy, metrics=[dsc])\n",
        "model.summary()\n"
      ],
      "metadata": {
        "id": "6oWbfFEytHz-"
      },
      "execution_count": null,
      "outputs": []
    },
    {
      "cell_type": "code",
      "source": [
        "history = model.fit(X_train, y_train,\n",
        "                    batch_size = 4,\n",
        "                    verbose=1,\n",
        "                    epochs=100,\n",
        "                    validation_data=(X_test, y_test),\n",
        "                    shuffle=False)"
      ],
      "metadata": {
        "id": "bPGnoxfTthFr"
      },
      "execution_count": null,
      "outputs": []
    },
    {
      "cell_type": "code",
      "source": [
        "#Save the model for future use\n",
        "model.save('/content/drive/MyDrive/Colab Notebooks/saved_models/fetal.hdf5')\n",
        "\n",
        "#plot the training and validation dsc at each epoch\n",
        "dsc = history.history['dsc']\n",
        "val_dsc = history.history['val_dsc']\n",
        "epochs = range(1, len(dsc) + 1)\n",
        "plt.plot(epochs, dsc, 'y', label='Training Dice Similarity Coefficient')\n",
        "plt.plot(epochs, val_dsc, 'r', label='Validation Dice Similarity Coefficient')\n",
        "plt.title('Training and validation Dice Similarity Coefficient')\n",
        "plt.xlabel('Epochs')\n",
        "plt.ylabel('Dice Similarity Coefficient')\n",
        "plt.legend()\n",
        "plt.show()"
      ],
      "metadata": {
        "id": "6oP-Iu48uTmg"
      },
      "execution_count": null,
      "outputs": []
    },
    {
      "cell_type": "markdown",
      "source": [
        "Prediction from original U net"
      ],
      "metadata": {
        "id": "kVgtc_zyuwWe"
      }
    },
    {
      "cell_type": "code",
      "source": [
        "import random\n",
        "threshold = 0.5\n",
        "test_img_number = random.randint(0, len(X_test))\n",
        "test_img = X_test[test_img_number]\n",
        "ground_truth=y_test[test_img_number]\n",
        "test_img_input=np.expand_dims(test_img, 0)\n",
        "print(test_img_input.shape)\n",
        "prediction = (model.predict(test_img_input)[0,:,:,0]> 0.14).astype(\"uint8\")\n",
        "print(prediction.shape)\n",
        "\n",
        "plt.figure(figsize=(16, 8))\n",
        "plt.subplot(231)\n",
        "plt.title('Testing Image')\n",
        "plt.imshow(np.squeeze(test_img),cmap='gray')\n",
        "plt.axis('off')\n",
        "plt.subplot(232)\n",
        "plt.title('Testing Label')\n",
        "plt.imshow(np.squeeze(ground_truth),cmap='gray')\n",
        "plt.axis('off')\n",
        "plt.subplot(233)\n",
        "plt.title('Prediction on test image')\n",
        "#plt.imshow(prediction, cmap='gray')\n",
        "plt.imshow(np.squeeze(prediction),cmap='gray')\n",
        "plt.axis('off')\n",
        "plt.show()"
      ],
      "metadata": {
        "id": "2RQfgTP2ubw5"
      },
      "execution_count": null,
      "outputs": []
    }
  ],
  "metadata": {
    "accelerator": "GPU",
    "colab": {
      "collapsed_sections": [
        "ns5trBUHdvWW"
      ],
      "provenance": [],
      "gpuType": "T4"
    },
    "kernelspec": {
      "display_name": "Python 3",
      "name": "python3"
    },
    "language_info": {
      "name": "python"
    }
  },
  "nbformat": 4,
  "nbformat_minor": 0
}